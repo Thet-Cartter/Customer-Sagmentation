{
 "cells": [
  {
   "cell_type": "markdown",
   "id": "26243655",
   "metadata": {},
   "source": [
    "# CUSTOMER SEGMENTATION"
   ]
  },
  {
   "cell_type": "code",
   "execution_count": 1,
   "id": "a707ba42",
   "metadata": {},
   "outputs": [],
   "source": [
    "# Import standard library\n",
    "import warnings\n",
    "warnings.filterwarnings('ignore')\n",
    "\n",
    "import pandas as pd\n",
    "import numpy as np\n",
    "import matplotlib.pyplot as plt\n",
    "import seaborn as sns\n",
    "import missingno as msno\n",
    "\n",
    "import datetime as dt\n",
    "from datetime import timedelta\n",
    "\n",
    "import plotly.graph_objs as go\n",
    "import plotly.offline as pyoff\n",
    "\n",
    "# K-Mean Model\n",
    "from scipy import stats\n",
    "from sklearn.preprocessing import StandardScaler\n",
    "from sklearn.cluster import KMeans\n",
    "\n",
    "# Hierarchical Model\n",
    "import scipy.cluster.hierarchy as sch\n",
    "from sklearn.cluster import AgglomerativeClustering"
   ]
  },
  {
   "cell_type": "markdown",
   "id": "ead21f78",
   "metadata": {},
   "source": [
    "## 1. Data Exploration"
   ]
  },
  {
   "cell_type": "code",
   "execution_count": 2,
   "id": "988497c5",
   "metadata": {
    "scrolled": false
   },
   "outputs": [
    {
     "data": {
      "text/html": [
       "<div>\n",
       "<style scoped>\n",
       "    .dataframe tbody tr th:only-of-type {\n",
       "        vertical-align: middle;\n",
       "    }\n",
       "\n",
       "    .dataframe tbody tr th {\n",
       "        vertical-align: top;\n",
       "    }\n",
       "\n",
       "    .dataframe thead th {\n",
       "        text-align: right;\n",
       "    }\n",
       "</style>\n",
       "<table border=\"1\" class=\"dataframe\">\n",
       "  <thead>\n",
       "    <tr style=\"text-align: right;\">\n",
       "      <th></th>\n",
       "      <th>InvoiceNo</th>\n",
       "      <th>StockCode</th>\n",
       "      <th>Description</th>\n",
       "      <th>Quantity</th>\n",
       "      <th>InvoiceDate</th>\n",
       "      <th>UnitPrice</th>\n",
       "      <th>CustomerID</th>\n",
       "      <th>Country</th>\n",
       "    </tr>\n",
       "  </thead>\n",
       "  <tbody>\n",
       "    <tr>\n",
       "      <th>0</th>\n",
       "      <td>536365</td>\n",
       "      <td>85123A</td>\n",
       "      <td>WHITE HANGING HEART T-LIGHT HOLDER</td>\n",
       "      <td>6</td>\n",
       "      <td>01-12-2010 8:26</td>\n",
       "      <td>2.55</td>\n",
       "      <td>17850.0</td>\n",
       "      <td>United Kingdom</td>\n",
       "    </tr>\n",
       "    <tr>\n",
       "      <th>1</th>\n",
       "      <td>536365</td>\n",
       "      <td>71053</td>\n",
       "      <td>WHITE METAL LANTERN</td>\n",
       "      <td>6</td>\n",
       "      <td>01-12-2010 8:26</td>\n",
       "      <td>3.39</td>\n",
       "      <td>17850.0</td>\n",
       "      <td>United Kingdom</td>\n",
       "    </tr>\n",
       "    <tr>\n",
       "      <th>2</th>\n",
       "      <td>536365</td>\n",
       "      <td>84406B</td>\n",
       "      <td>CREAM CUPID HEARTS COAT HANGER</td>\n",
       "      <td>8</td>\n",
       "      <td>01-12-2010 8:26</td>\n",
       "      <td>2.75</td>\n",
       "      <td>17850.0</td>\n",
       "      <td>United Kingdom</td>\n",
       "    </tr>\n",
       "    <tr>\n",
       "      <th>3</th>\n",
       "      <td>536365</td>\n",
       "      <td>84029G</td>\n",
       "      <td>KNITTED UNION FLAG HOT WATER BOTTLE</td>\n",
       "      <td>6</td>\n",
       "      <td>01-12-2010 8:26</td>\n",
       "      <td>3.39</td>\n",
       "      <td>17850.0</td>\n",
       "      <td>United Kingdom</td>\n",
       "    </tr>\n",
       "    <tr>\n",
       "      <th>4</th>\n",
       "      <td>536365</td>\n",
       "      <td>84029E</td>\n",
       "      <td>RED WOOLLY HOTTIE WHITE HEART.</td>\n",
       "      <td>6</td>\n",
       "      <td>01-12-2010 8:26</td>\n",
       "      <td>3.39</td>\n",
       "      <td>17850.0</td>\n",
       "      <td>United Kingdom</td>\n",
       "    </tr>\n",
       "  </tbody>\n",
       "</table>\n",
       "</div>"
      ],
      "text/plain": [
       "  InvoiceNo StockCode                          Description  Quantity  \\\n",
       "0    536365    85123A   WHITE HANGING HEART T-LIGHT HOLDER         6   \n",
       "1    536365     71053                  WHITE METAL LANTERN         6   \n",
       "2    536365    84406B       CREAM CUPID HEARTS COAT HANGER         8   \n",
       "3    536365    84029G  KNITTED UNION FLAG HOT WATER BOTTLE         6   \n",
       "4    536365    84029E       RED WOOLLY HOTTIE WHITE HEART.         6   \n",
       "\n",
       "       InvoiceDate  UnitPrice  CustomerID         Country  \n",
       "0  01-12-2010 8:26       2.55     17850.0  United Kingdom  \n",
       "1  01-12-2010 8:26       3.39     17850.0  United Kingdom  \n",
       "2  01-12-2010 8:26       2.75     17850.0  United Kingdom  \n",
       "3  01-12-2010 8:26       3.39     17850.0  United Kingdom  \n",
       "4  01-12-2010 8:26       3.39     17850.0  United Kingdom  "
      ]
     },
     "execution_count": 2,
     "metadata": {},
     "output_type": "execute_result"
    }
   ],
   "source": [
    "# Loading 'Online Retail' data transactions occurring between 01/12/2010 and 09/12/2011 for a UK-based\n",
    "df = pd.read_csv('OnlineRetail.csv', encoding = 'unicode_escape')\n",
    "df.head()"
   ]
  },
  {
   "cell_type": "code",
   "execution_count": 3,
   "id": "5737a99b",
   "metadata": {},
   "outputs": [
    {
     "data": {
      "text/plain": [
       "(541909, 8)"
      ]
     },
     "execution_count": 3,
     "metadata": {},
     "output_type": "execute_result"
    }
   ],
   "source": [
    "df.shape"
   ]
  },
  {
   "cell_type": "code",
   "execution_count": 4,
   "id": "03bc5c24",
   "metadata": {
    "scrolled": true
   },
   "outputs": [
    {
     "data": {
      "text/html": [
       "<div>\n",
       "<style scoped>\n",
       "    .dataframe tbody tr th:only-of-type {\n",
       "        vertical-align: middle;\n",
       "    }\n",
       "\n",
       "    .dataframe tbody tr th {\n",
       "        vertical-align: top;\n",
       "    }\n",
       "\n",
       "    .dataframe thead th {\n",
       "        text-align: right;\n",
       "    }\n",
       "</style>\n",
       "<table border=\"1\" class=\"dataframe\">\n",
       "  <thead>\n",
       "    <tr style=\"text-align: right;\">\n",
       "      <th></th>\n",
       "      <th>Quantity</th>\n",
       "      <th>UnitPrice</th>\n",
       "      <th>CustomerID</th>\n",
       "    </tr>\n",
       "  </thead>\n",
       "  <tbody>\n",
       "    <tr>\n",
       "      <th>count</th>\n",
       "      <td>541909.000000</td>\n",
       "      <td>541909.000000</td>\n",
       "      <td>406829.000000</td>\n",
       "    </tr>\n",
       "    <tr>\n",
       "      <th>mean</th>\n",
       "      <td>9.552250</td>\n",
       "      <td>4.611114</td>\n",
       "      <td>15287.690570</td>\n",
       "    </tr>\n",
       "    <tr>\n",
       "      <th>std</th>\n",
       "      <td>218.081158</td>\n",
       "      <td>96.759853</td>\n",
       "      <td>1713.600303</td>\n",
       "    </tr>\n",
       "    <tr>\n",
       "      <th>min</th>\n",
       "      <td>-80995.000000</td>\n",
       "      <td>-11062.060000</td>\n",
       "      <td>12346.000000</td>\n",
       "    </tr>\n",
       "    <tr>\n",
       "      <th>25%</th>\n",
       "      <td>1.000000</td>\n",
       "      <td>1.250000</td>\n",
       "      <td>13953.000000</td>\n",
       "    </tr>\n",
       "    <tr>\n",
       "      <th>50%</th>\n",
       "      <td>3.000000</td>\n",
       "      <td>2.080000</td>\n",
       "      <td>15152.000000</td>\n",
       "    </tr>\n",
       "    <tr>\n",
       "      <th>75%</th>\n",
       "      <td>10.000000</td>\n",
       "      <td>4.130000</td>\n",
       "      <td>16791.000000</td>\n",
       "    </tr>\n",
       "    <tr>\n",
       "      <th>max</th>\n",
       "      <td>80995.000000</td>\n",
       "      <td>38970.000000</td>\n",
       "      <td>18287.000000</td>\n",
       "    </tr>\n",
       "  </tbody>\n",
       "</table>\n",
       "</div>"
      ],
      "text/plain": [
       "            Quantity      UnitPrice     CustomerID\n",
       "count  541909.000000  541909.000000  406829.000000\n",
       "mean        9.552250       4.611114   15287.690570\n",
       "std       218.081158      96.759853    1713.600303\n",
       "min    -80995.000000  -11062.060000   12346.000000\n",
       "25%         1.000000       1.250000   13953.000000\n",
       "50%         3.000000       2.080000   15152.000000\n",
       "75%        10.000000       4.130000   16791.000000\n",
       "max     80995.000000   38970.000000   18287.000000"
      ]
     },
     "execution_count": 4,
     "metadata": {},
     "output_type": "execute_result"
    }
   ],
   "source": [
    "df.describe()"
   ]
  },
  {
   "cell_type": "code",
   "execution_count": 5,
   "id": "f23c102d",
   "metadata": {
    "scrolled": false
   },
   "outputs": [
    {
     "name": "stdout",
     "output_type": "stream",
     "text": [
      "<class 'pandas.core.frame.DataFrame'>\n",
      "RangeIndex: 541909 entries, 0 to 541908\n",
      "Data columns (total 8 columns):\n",
      " #   Column       Non-Null Count   Dtype  \n",
      "---  ------       --------------   -----  \n",
      " 0   InvoiceNo    541909 non-null  object \n",
      " 1   StockCode    541909 non-null  object \n",
      " 2   Description  540455 non-null  object \n",
      " 3   Quantity     541909 non-null  int64  \n",
      " 4   InvoiceDate  541909 non-null  object \n",
      " 5   UnitPrice    541909 non-null  float64\n",
      " 6   CustomerID   406829 non-null  float64\n",
      " 7   Country      541909 non-null  object \n",
      "dtypes: float64(2), int64(1), object(5)\n",
      "memory usage: 33.1+ MB\n"
     ]
    }
   ],
   "source": [
    "# Check information of dataset\n",
    "df.info()"
   ]
  },
  {
   "cell_type": "markdown",
   "id": "3ace1473",
   "metadata": {},
   "source": [
    "Figure1: Dataset informatoin"
   ]
  },
  {
   "cell_type": "markdown",
   "id": "a5c2213d",
   "metadata": {},
   "source": [
    "## 2. Data preparation"
   ]
  },
  {
   "cell_type": "code",
   "execution_count": 6,
   "id": "302f0f9e",
   "metadata": {},
   "outputs": [
    {
     "name": "stdout",
     "output_type": "stream",
     "text": [
      "Total Duplicate as number\t: 5268\n",
      "Total Duplicate as percent\t: 1%\n",
      "Total Duplicate after removed\t: 0\n"
     ]
    }
   ],
   "source": [
    "# check duplicate and it's %\n",
    "print('Total Duplicate as number\\t: {}'.format(df.duplicated().sum()))\n",
    "print('Total Duplicate as percent\\t: {}%'.format(round((df.duplicated().sum()/df.shape[0])*100), 2)) # df.shape[0]: total of rows\n",
    "\n",
    "df.drop_duplicates(inplace = True)\n",
    "print('Total Duplicate after removed\\t: {}'.format(df.duplicated().sum()))"
   ]
  },
  {
   "cell_type": "code",
   "execution_count": 7,
   "id": "d58fd6f1",
   "metadata": {
    "scrolled": false
   },
   "outputs": [
    {
     "name": "stdout",
     "output_type": "stream",
     "text": [
      "InvoiceNo           0\n",
      "StockCode           0\n",
      "Description      1454\n",
      "Quantity            0\n",
      "InvoiceDate         0\n",
      "UnitPrice           0\n",
      "CustomerID     135037\n",
      "Country             0\n",
      "dtype: int64\n"
     ]
    }
   ],
   "source": [
    "# Find null for all columns\n",
    "print(df.isnull().sum())"
   ]
  },
  {
   "cell_type": "markdown",
   "id": "d05a6b0e",
   "metadata": {},
   "source": [
    "As we can see, there are missing value in column Description & CustomerID. But we noted that the root cause of missing value in column Description is came from the missing value of column CustomerID. So removing missing value from CustomerID are also remove missing value from Description. \n",
    "\n",
    "Since we can not fill the null value with other value or using statistic method to fill the value, we need to drop the null value in CustomerID column."
   ]
  },
  {
   "cell_type": "code",
   "execution_count": 8,
   "id": "b9e99ff6",
   "metadata": {},
   "outputs": [
    {
     "name": "stdout",
     "output_type": "stream",
     "text": [
      "CustomerID: Total null as number\t: 135037\n",
      "CustomerID: Total null as percen\t: 25%\n",
      "CustomerID: Total null after cleaning\t: 0\n"
     ]
    }
   ],
   "source": [
    "# CustomerID, find null value and it's %\n",
    "print('CustomerID: Total null as number\\t: {}'.format(df['CustomerID'].isnull().sum()))\n",
    "print('CustomerID: Total null as percen\\t: {}%'.format(round((df['CustomerID'].isnull().sum()/df.shape[0])*100), 2))\n",
    "\n",
    "df = df[df['CustomerID'].notna()]\n",
    "print('CustomerID: Total null after cleaning\\t: {}'.format(df['CustomerID'].isnull().sum()))"
   ]
  },
  {
   "cell_type": "code",
   "execution_count": 9,
   "id": "b08cc670",
   "metadata": {
    "scrolled": true
   },
   "outputs": [
    {
     "name": "stdout",
     "output_type": "stream",
     "text": [
      "InvoiceNo      0\n",
      "StockCode      0\n",
      "Description    0\n",
      "Quantity       0\n",
      "InvoiceDate    0\n",
      "UnitPrice      0\n",
      "CustomerID     0\n",
      "Country        0\n",
      "dtype: int64\n"
     ]
    }
   ],
   "source": [
    "print(df.isnull().sum())"
   ]
  },
  {
   "cell_type": "markdown",
   "id": "0636ae09",
   "metadata": {},
   "source": [
    "Cancellation ordered\n",
    "\n",
    "If InvoiceNo starts with letter 'c', it indicates a cancellation Please note that every transaction that was cancelled make negative value in Quantity & Unitprice column\n",
    "So removing cancellation transaction are also removed negative vaule from Quantity & Unitprice"
   ]
  },
  {
   "cell_type": "code",
   "execution_count": 10,
   "id": "5b579fff",
   "metadata": {
    "scrolled": true
   },
   "outputs": [
    {
     "name": "stdout",
     "output_type": "stream",
     "text": [
      "cancellation order as number: 8872\n",
      "cancellation order as percent: 2.21%\n"
     ]
    }
   ],
   "source": [
    "cancelOrder = df['InvoiceNo']\n",
    "print('cancellation order as number: {}'.format(cancelOrder.str.contains('C', regex = True).sum()))\n",
    "print('cancellation order as percent: {}%'.format(round(((cancelOrder.str.contains('C', regex = True).sum()/df.shape[0])*100), 2)))"
   ]
  },
  {
   "cell_type": "code",
   "execution_count": 11,
   "id": "7875393a",
   "metadata": {},
   "outputs": [
    {
     "name": "stdout",
     "output_type": "stream",
     "text": [
      "0    392732\n",
      "1      8872\n",
      "Name: InvoiceNo, dtype: int64\n",
      "Number of cancellation order: 0\n"
     ]
    }
   ],
   "source": [
    "# Remove cancellation order\n",
    "astr = cancelOrder.str.contains('C', regex = True)\n",
    "astr.fillna(0, inplace = True)\n",
    "astr = astr.astype(int)\n",
    "print(astr.value_counts())\n",
    "\n",
    "df['cancelOrder'] = astr\n",
    "df = df[df['cancelOrder'] == 0] \n",
    "print('Number of cancellation order: {}'.format((df['cancelOrder'] == 1).sum()))\n",
    "df = df.drop(['cancelOrder'], axis = 1)"
   ]
  },
  {
   "cell_type": "code",
   "execution_count": 12,
   "id": "82aaf8d6",
   "metadata": {},
   "outputs": [
    {
     "name": "stdout",
     "output_type": "stream",
     "text": [
      "Quantity: Count negaitve value as number\t: 0\n",
      "UnitPrice: Count negaitve value as number\t: 0\n"
     ]
    }
   ],
   "source": [
    "# Quantity & UnitPrice, find negative value and it's %\n",
    "print('Quantity: Count negaitve value as number\\t: {}'.format((df['Quantity'] < 0).sum()))\n",
    "print('UnitPrice: Count negaitve value as number\\t: {}'.format((df['UnitPrice'] < 0).sum()))"
   ]
  },
  {
   "cell_type": "code",
   "execution_count": 13,
   "id": "ddd3eda8",
   "metadata": {},
   "outputs": [],
   "source": [
    "# Function to remove outlier \n",
    "def remove_outlier(df_in, col_name):\n",
    "    q1 = df_in[col_name].quantile(0.25)\n",
    "    q3 = df_in[col_name].quantile(0.75)\n",
    "    iqr = q3-q1 #Interquartile range\n",
    "    fence_low  = q1-1.5*iqr\n",
    "    fence_high = q3+1.5*iqr\n",
    "    df_out = df_in.loc[(df_in[col_name] > fence_low) & (df_in[col_name] < fence_high)]\n",
    "    return df_out"
   ]
  },
  {
   "cell_type": "code",
   "execution_count": 14,
   "id": "1f817e96",
   "metadata": {},
   "outputs": [
    {
     "data": {
      "image/png": "[encoded data removed]",
      "text/plain": [
       "<Figure size 720x288 with 2 Axes>"
      ]
     },
     "metadata": {
      "needs_background": "light"
     },
     "output_type": "display_data"
    }
   ],
   "source": [
    "fig = plt.figure(figsize=(10, 4))\n",
    "ax1 = plt.subplot2grid((1,2), (0,0)) \n",
    "ax2 = plt.subplot2grid((1,2), (0,1)) \n",
    "\n",
    "# Outlier visualization for Quantity column\n",
    "ax1.boxplot(df['Quantity'])\n",
    "ax1.set_title(\"Quantity: Outlier before removing\")\n",
    "\n",
    "# Outlier visulization for UnitPrice column\n",
    "ax2.boxplot(df['UnitPrice'])\n",
    "x = ax2.set_title(\"UnitPrice: Outlier before removing\")"
   ]
  },
  {
   "cell_type": "code",
   "execution_count": 15,
   "id": "a3c454a1",
   "metadata": {},
   "outputs": [
    {
     "name": "stdout",
     "output_type": "stream",
     "text": [
      "Record before remove Outlier: 392732\n"
     ]
    }
   ],
   "source": [
    "temStr = df.shape[0]\n",
    "print('Record before remove Outlier:', temStr)"
   ]
  },
  {
   "cell_type": "code",
   "execution_count": 16,
   "id": "6d069827",
   "metadata": {},
   "outputs": [],
   "source": [
    "# remove outlie for Quantiy\n",
    "df = remove_outlier(df, 'Quantity')\n",
    "\n",
    "# remove outlie for UnitPrice\n",
    "df = remove_outlier(df, 'UnitPrice')"
   ]
  },
  {
   "cell_type": "code",
   "execution_count": 17,
   "id": "c1499656",
   "metadata": {},
   "outputs": [
    {
     "data": {
      "image/png": "[encoded data removed]",
      "text/plain": [
       "<Figure size 720x288 with 2 Axes>"
      ]
     },
     "metadata": {
      "needs_background": "light"
     },
     "output_type": "display_data"
    }
   ],
   "source": [
    "fig = plt.figure(figsize = (10, 4))\n",
    "ax1 = plt.subplot2grid((1,2), (0,0)) \n",
    "ax2 = plt.subplot2grid((1,2), (0,1)) \n",
    "\n",
    "# Outlier visualization for Quantity column\n",
    "ax1.boxplot(df['Quantity'])\n",
    "ax1.set_title(\"Quantity: Outlier after removing\")\n",
    "\n",
    "# Outlier visulization for UnitPrice column\n",
    "ax2.boxplot(df['UnitPrice'])\n",
    "x = ax2.set_title(\"UnitPrice: Outlier after removing\")"
   ]
  },
  {
   "cell_type": "markdown",
   "id": "915efcae",
   "metadata": {},
   "source": [
    "After removing outlier, it’s look like there are another outlier still existed. Indeed, it is not. We considering that it is group of price of luxury products"
   ]
  },
  {
   "cell_type": "code",
   "execution_count": 18,
   "id": "c3d57bbc",
   "metadata": {},
   "outputs": [
    {
     "name": "stdout",
     "output_type": "stream",
     "text": [
      "Total removed as number\t\t\t: 60087\n",
      "Total removed as percent\t\t: 15%\n",
      "Record records after remove outlier\t: 332645\n"
     ]
    }
   ],
   "source": [
    "print('Total removed as number\\t\\t\\t:', temStr - df.shape[0])\n",
    "print('Total removed as percent\\t\\t: {}%'.format( round(((temStr - df.shape[0])/temStr)*100), 2))\n",
    "print('Record records after remove outlier\\t:', df.shape[0])"
   ]
  },
  {
   "cell_type": "code",
   "execution_count": 19,
   "id": "518e5de7",
   "metadata": {},
   "outputs": [
    {
     "data": {
      "text/html": [
       "<div>\n",
       "<style scoped>\n",
       "    .dataframe tbody tr th:only-of-type {\n",
       "        vertical-align: middle;\n",
       "    }\n",
       "\n",
       "    .dataframe tbody tr th {\n",
       "        vertical-align: top;\n",
       "    }\n",
       "\n",
       "    .dataframe thead th {\n",
       "        text-align: right;\n",
       "    }\n",
       "</style>\n",
       "<table border=\"1\" class=\"dataframe\">\n",
       "  <thead>\n",
       "    <tr style=\"text-align: right;\">\n",
       "      <th></th>\n",
       "      <th>Country</th>\n",
       "      <th>CustomerID</th>\n",
       "      <th>%CustomerID</th>\n",
       "    </tr>\n",
       "  </thead>\n",
       "  <tbody>\n",
       "    <tr>\n",
       "      <th>0</th>\n",
       "      <td>United Kingdom</td>\n",
       "      <td>299750</td>\n",
       "      <td>90.11</td>\n",
       "    </tr>\n",
       "    <tr>\n",
       "      <th>1</th>\n",
       "      <td>Germany</td>\n",
       "      <td>7439</td>\n",
       "      <td>2.24</td>\n",
       "    </tr>\n",
       "    <tr>\n",
       "      <th>2</th>\n",
       "      <td>France</td>\n",
       "      <td>6882</td>\n",
       "      <td>2.07</td>\n",
       "    </tr>\n",
       "    <tr>\n",
       "      <th>3</th>\n",
       "      <td>EIRE</td>\n",
       "      <td>5423</td>\n",
       "      <td>1.63</td>\n",
       "    </tr>\n",
       "    <tr>\n",
       "      <th>4</th>\n",
       "      <td>Spain</td>\n",
       "      <td>2039</td>\n",
       "      <td>0.61</td>\n",
       "    </tr>\n",
       "  </tbody>\n",
       "</table>\n",
       "</div>"
      ],
      "text/plain": [
       "          Country  CustomerID  %CustomerID\n",
       "0  United Kingdom      299750        90.11\n",
       "1         Germany        7439         2.24\n",
       "2          France        6882         2.07\n",
       "3            EIRE        5423         1.63\n",
       "4           Spain        2039         0.61"
      ]
     },
     "execution_count": 19,
     "metadata": {},
     "output_type": "execute_result"
    }
   ],
   "source": [
    "# Customer distribution by Country\n",
    "df_CustByCountry = df[['Country', 'CustomerID']]\n",
    "df_CustByCountry = df_CustByCountry.groupby(['Country'])['CustomerID'].aggregate('count').reset_index().sort_values('CustomerID', ascending = False)\n",
    "df_CustByCountry['%CustomerID'] = round((df_CustByCountry['CustomerID']/df_CustByCountry['CustomerID'].sum(axis = 0))*100, 2)\n",
    "df_CustByCountry.reset_index(drop = True,inplace = True)\n",
    "df_CustByCountry.head()"
   ]
  },
  {
   "cell_type": "code",
   "execution_count": 20,
   "id": "96b7058f",
   "metadata": {},
   "outputs": [
    {
     "name": "stdout",
     "output_type": "stream",
     "text": [
      "InvoiceNo      0\n",
      "StockCode      0\n",
      "Description    0\n",
      "Quantity       0\n",
      "InvoiceDate    0\n",
      "UnitPrice      0\n",
      "CustomerID     0\n",
      "Country        0\n",
      "dtype: int64\n"
     ]
    }
   ],
   "source": [
    "print(df.isnull().sum())"
   ]
  },
  {
   "cell_type": "code",
   "execution_count": 21,
   "id": "e45eda29",
   "metadata": {},
   "outputs": [
    {
     "data": {
      "image/png": "[encoded data removed]",
      "text/plain": [
       "<Figure size 720x360 with 1 Axes>"
      ]
     },
     "metadata": {
      "needs_background": "light"
     },
     "output_type": "display_data"
    }
   ],
   "source": [
    "# Customer distribution by county visualization\n",
    "plt.figure(figsize=(10,5))\n",
    "plt.title('Customer distribution by county')\n",
    "ax = sns.barplot(x = '%CustomerID', y = 'Country', data = df_CustByCountry[:10])\n",
    "for i in ax.containers:\n",
    "    ax.bar_label(i,)"
   ]
  },
  {
   "cell_type": "markdown",
   "id": "d416513f",
   "metadata": {},
   "source": [
    "Based on the graph, 90% of customer are come from United Kingdom"
   ]
  },
  {
   "cell_type": "code",
   "execution_count": 22,
   "id": "8fdbbbcf",
   "metadata": {},
   "outputs": [
    {
     "data": {
      "text/plain": [
       "(299750, 9)"
      ]
     },
     "execution_count": 22,
     "metadata": {},
     "output_type": "execute_result"
    }
   ],
   "source": [
    "# keep only United Kingdom data\n",
    "df_uk = df[df.Country == 'United Kingdom']\n",
    "\n",
    "# Calculate total payment\n",
    "df_uk['TotalPayment'] = df_uk['Quantity'] * df_uk['UnitPrice']\n",
    "\n",
    "# Convert string date to date time (yyyy-mm-dd---)\n",
    "df_uk['InvoiceDate'] = pd.to_datetime(df_uk['InvoiceDate'])\n",
    "\n",
    "df_uk.shape"
   ]
  },
  {
   "cell_type": "markdown",
   "id": "0bb593e6",
   "metadata": {},
   "source": [
    "## 3. RFM Approach (Recency Frequency, Monetary)\n",
    "- Recency = Recently InvoiceDate  - Last InvoiceDate\n",
    "- Frequency = Number of transaction (count InvoiceNo)\n",
    "- Monetary = Sum of TotalPayment for each customer "
   ]
  },
  {
   "cell_type": "code",
   "execution_count": 23,
   "id": "21eed287",
   "metadata": {},
   "outputs": [
    {
     "name": "stdout",
     "output_type": "stream",
     "text": [
      "End date is: 2011-12-11 17:19:00\n"
     ]
    }
   ],
   "source": [
    "# Find end date\n",
    "# we need to add one day to make range for last recored. So if record made in the last day of record, recency would be 1 \n",
    "eDate = df_uk['InvoiceDate'].max()\n",
    "eDate = eDate + timedelta(days = 1)\n",
    "print('End date is:', eDate)"
   ]
  },
  {
   "cell_type": "code",
   "execution_count": 24,
   "id": "06934b4e",
   "metadata": {
    "scrolled": false
   },
   "outputs": [
    {
     "data": {
      "text/html": [
       "<div>\n",
       "<style scoped>\n",
       "    .dataframe tbody tr th:only-of-type {\n",
       "        vertical-align: middle;\n",
       "    }\n",
       "\n",
       "    .dataframe tbody tr th {\n",
       "        vertical-align: top;\n",
       "    }\n",
       "\n",
       "    .dataframe thead th {\n",
       "        text-align: right;\n",
       "    }\n",
       "</style>\n",
       "<table border=\"1\" class=\"dataframe\">\n",
       "  <thead>\n",
       "    <tr style=\"text-align: right;\">\n",
       "      <th></th>\n",
       "      <th>CustomerID</th>\n",
       "      <th>Recency</th>\n",
       "      <th>Frequency</th>\n",
       "      <th>Monetary</th>\n",
       "    </tr>\n",
       "  </thead>\n",
       "  <tbody>\n",
       "    <tr>\n",
       "      <th>0</th>\n",
       "      <td>12747.0</td>\n",
       "      <td>24</td>\n",
       "      <td>78</td>\n",
       "      <td>2640.41</td>\n",
       "    </tr>\n",
       "    <tr>\n",
       "      <th>1</th>\n",
       "      <td>12748.0</td>\n",
       "      <td>5</td>\n",
       "      <td>4041</td>\n",
       "      <td>20345.55</td>\n",
       "    </tr>\n",
       "    <tr>\n",
       "      <th>2</th>\n",
       "      <td>12749.0</td>\n",
       "      <td>24</td>\n",
       "      <td>143</td>\n",
       "      <td>2662.73</td>\n",
       "    </tr>\n",
       "    <tr>\n",
       "      <th>3</th>\n",
       "      <td>12820.0</td>\n",
       "      <td>46</td>\n",
       "      <td>58</td>\n",
       "      <td>923.62</td>\n",
       "    </tr>\n",
       "    <tr>\n",
       "      <th>4</th>\n",
       "      <td>12821.0</td>\n",
       "      <td>97</td>\n",
       "      <td>5</td>\n",
       "      <td>75.72</td>\n",
       "    </tr>\n",
       "  </tbody>\n",
       "</table>\n",
       "</div>"
      ],
      "text/plain": [
       "   CustomerID  Recency  Frequency  Monetary\n",
       "0     12747.0       24         78   2640.41\n",
       "1     12748.0        5       4041  20345.55\n",
       "2     12749.0       24        143   2662.73\n",
       "3     12820.0       46         58    923.62\n",
       "4     12821.0       97          5     75.72"
      ]
     },
     "execution_count": 24,
     "metadata": {},
     "output_type": "execute_result"
    }
   ],
   "source": [
    "# Create table RFM score\n",
    "RFM = df_uk.groupby('CustomerID').agg({'InvoiceDate': lambda x: (eDate - x.max()).days, \n",
    "                                       'InvoiceNo': lambda x: len(x), \n",
    "                                       'TotalPayment': lambda x: x.sum()})\n",
    "\n",
    "# Convert integer: number day of purchase have to convert to integer\n",
    "RFM['InvoiceDate'] = RFM['InvoiceDate'].astype(int)\n",
    "\n",
    "# Rename column \n",
    "RFM.rename(columns = {'InvoiceDate' : 'Recency', 'InvoiceNo' : 'Frequency', 'TotalPayment' : 'Monetary'}, inplace = True)\n",
    "RFM.reset_index().head()"
   ]
  },
  {
   "cell_type": "markdown",
   "id": "c26c051c",
   "metadata": {},
   "source": [
    "Now we split the metrics into segments using quantiles. We will assign a score from 1 to 4 to each Recency, Frequency and Monetary respectively. 1 is the highest value, and 4 is the lowest value. A final RFM score (Overall Value) is calculated simply by combining individual RFM score numbers."
   ]
  },
  {
   "cell_type": "code",
   "execution_count": 25,
   "id": "9bc8bc93",
   "metadata": {},
   "outputs": [
    {
     "data": {
      "text/plain": [
       "{'Recency': {0.25: 23.0, 0.5: 62.0, 0.75: 163.0},\n",
       " 'Frequency': {0.25: 14.0, 0.5: 35.0, 0.75: 87.0},\n",
       " 'Monetary': {0.25: 199.82500000000002, 0.5: 446.71, 0.75: 1091.335}}"
      ]
     },
     "execution_count": 25,
     "metadata": {},
     "output_type": "execute_result"
    }
   ],
   "source": [
    "# Quantile\n",
    "QFM = RFM.quantile(q = [0.25, 0.5, 0.75])\n",
    "QFM = QFM.to_dict()\n",
    "QFM"
   ]
  },
  {
   "cell_type": "code",
   "execution_count": 26,
   "id": "c88e6f68",
   "metadata": {},
   "outputs": [],
   "source": [
    "# Function to create RFM segment\n",
    "\n",
    "# The lower value it is, the better customer they are. It mean customer more engaged\n",
    "def RScore(x, p, d):\n",
    "    if x<= d[p][0.25]:\n",
    "        return 1\n",
    "    if x<= d[p][0.5]: \n",
    "        return 2\n",
    "    if x<= d[p][0.75]: \n",
    "        return 3\n",
    "    else: \n",
    "        return 4\n",
    "\n",
    "# The higher value it is, the better customer they are. It mean they are mostly purchased or hight payment.    \n",
    "def FMScore(x, p, d):\n",
    "    if x<= d[p][0.25]: \n",
    "        return 4\n",
    "    if x<= d[p][0.5]: \n",
    "        return 3\n",
    "    if x<= d[p][0.75]: \n",
    "        return 2\n",
    "    else: \n",
    "        return 1"
   ]
  },
  {
   "cell_type": "code",
   "execution_count": 27,
   "id": "0d3e161d",
   "metadata": {},
   "outputs": [
    {
     "data": {
      "text/html": [
       "<div>\n",
       "<style scoped>\n",
       "    .dataframe tbody tr th:only-of-type {\n",
       "        vertical-align: middle;\n",
       "    }\n",
       "\n",
       "    .dataframe tbody tr th {\n",
       "        vertical-align: top;\n",
       "    }\n",
       "\n",
       "    .dataframe thead th {\n",
       "        text-align: right;\n",
       "    }\n",
       "</style>\n",
       "<table border=\"1\" class=\"dataframe\">\n",
       "  <thead>\n",
       "    <tr style=\"text-align: right;\">\n",
       "      <th></th>\n",
       "      <th>CustomerID</th>\n",
       "      <th>Recency</th>\n",
       "      <th>Frequency</th>\n",
       "      <th>Monetary</th>\n",
       "      <th>R</th>\n",
       "      <th>F</th>\n",
       "      <th>M</th>\n",
       "      <th>RFMGroup</th>\n",
       "      <th>RFMScore</th>\n",
       "    </tr>\n",
       "  </thead>\n",
       "  <tbody>\n",
       "    <tr>\n",
       "      <th>0</th>\n",
       "      <td>12747.0</td>\n",
       "      <td>24</td>\n",
       "      <td>78</td>\n",
       "      <td>2640.41</td>\n",
       "      <td>2</td>\n",
       "      <td>2</td>\n",
       "      <td>1</td>\n",
       "      <td>221</td>\n",
       "      <td>5</td>\n",
       "    </tr>\n",
       "    <tr>\n",
       "      <th>1</th>\n",
       "      <td>12748.0</td>\n",
       "      <td>5</td>\n",
       "      <td>4041</td>\n",
       "      <td>20345.55</td>\n",
       "      <td>1</td>\n",
       "      <td>1</td>\n",
       "      <td>1</td>\n",
       "      <td>111</td>\n",
       "      <td>3</td>\n",
       "    </tr>\n",
       "    <tr>\n",
       "      <th>2</th>\n",
       "      <td>12749.0</td>\n",
       "      <td>24</td>\n",
       "      <td>143</td>\n",
       "      <td>2662.73</td>\n",
       "      <td>2</td>\n",
       "      <td>1</td>\n",
       "      <td>1</td>\n",
       "      <td>211</td>\n",
       "      <td>4</td>\n",
       "    </tr>\n",
       "    <tr>\n",
       "      <th>3</th>\n",
       "      <td>12820.0</td>\n",
       "      <td>46</td>\n",
       "      <td>58</td>\n",
       "      <td>923.62</td>\n",
       "      <td>2</td>\n",
       "      <td>2</td>\n",
       "      <td>2</td>\n",
       "      <td>222</td>\n",
       "      <td>6</td>\n",
       "    </tr>\n",
       "    <tr>\n",
       "      <th>4</th>\n",
       "      <td>12821.0</td>\n",
       "      <td>97</td>\n",
       "      <td>5</td>\n",
       "      <td>75.72</td>\n",
       "      <td>3</td>\n",
       "      <td>4</td>\n",
       "      <td>4</td>\n",
       "      <td>344</td>\n",
       "      <td>11</td>\n",
       "    </tr>\n",
       "  </tbody>\n",
       "</table>\n",
       "</div>"
      ],
      "text/plain": [
       "   CustomerID  Recency  Frequency  Monetary  R  F  M RFMGroup  RFMScore\n",
       "0     12747.0       24         78   2640.41  2  2  1      221         5\n",
       "1     12748.0        5       4041  20345.55  1  1  1      111         3\n",
       "2     12749.0       24        143   2662.73  2  1  1      211         4\n",
       "3     12820.0       46         58    923.62  2  2  2      222         6\n",
       "4     12821.0       97          5     75.72  3  4  4      344        11"
      ]
     },
     "execution_count": 27,
     "metadata": {},
     "output_type": "execute_result"
    }
   ],
   "source": [
    "# Calulate and add R, F, M segment into existing dataset\n",
    "RFM['R'] = RFM['Recency'].apply(RScore, args = ('Recency', QFM,))\n",
    "RFM['F'] = RFM['Frequency'].apply(FMScore, args = ('Frequency', QFM,))\n",
    "RFM['M'] = RFM['Monetary'].apply(FMScore, args = ('Monetary', QFM,))\n",
    "\n",
    "# Combine RFM as group and add into existing dataset\n",
    "RFM['RFMGroup'] = RFM.R.map(str) + RFM.F.map(str) + RFM.M.map(str)\n",
    "\n",
    "# Calculate total of RFM Scrore and add into existing dataset: The lower score it is, the better customer they are.\n",
    "RFM['RFMScore'] = RFM[['R', 'F', 'M']].sum(axis = 1)\n",
    "RFM.reset_index().head()"
   ]
  },
  {
   "cell_type": "code",
   "execution_count": 28,
   "id": "6c5f4753",
   "metadata": {},
   "outputs": [
    {
     "data": {
      "text/html": [
       "<div>\n",
       "<style scoped>\n",
       "    .dataframe tbody tr th:only-of-type {\n",
       "        vertical-align: middle;\n",
       "    }\n",
       "\n",
       "    .dataframe tbody tr th {\n",
       "        vertical-align: top;\n",
       "    }\n",
       "\n",
       "    .dataframe thead th {\n",
       "        text-align: right;\n",
       "    }\n",
       "</style>\n",
       "<table border=\"1\" class=\"dataframe\">\n",
       "  <thead>\n",
       "    <tr style=\"text-align: right;\">\n",
       "      <th></th>\n",
       "      <th>CustomerID</th>\n",
       "      <th>Recency</th>\n",
       "      <th>Frequency</th>\n",
       "      <th>Monetary</th>\n",
       "      <th>R</th>\n",
       "      <th>F</th>\n",
       "      <th>M</th>\n",
       "      <th>RFMGroup</th>\n",
       "      <th>RFMScore</th>\n",
       "      <th>Level</th>\n",
       "    </tr>\n",
       "  </thead>\n",
       "  <tbody>\n",
       "    <tr>\n",
       "      <th>0</th>\n",
       "      <td>12747.0</td>\n",
       "      <td>24</td>\n",
       "      <td>78</td>\n",
       "      <td>2640.41</td>\n",
       "      <td>2</td>\n",
       "      <td>2</td>\n",
       "      <td>1</td>\n",
       "      <td>221</td>\n",
       "      <td>5</td>\n",
       "      <td>Platinum</td>\n",
       "    </tr>\n",
       "    <tr>\n",
       "      <th>1</th>\n",
       "      <td>12748.0</td>\n",
       "      <td>5</td>\n",
       "      <td>4041</td>\n",
       "      <td>20345.55</td>\n",
       "      <td>1</td>\n",
       "      <td>1</td>\n",
       "      <td>1</td>\n",
       "      <td>111</td>\n",
       "      <td>3</td>\n",
       "      <td>Platinum</td>\n",
       "    </tr>\n",
       "    <tr>\n",
       "      <th>2</th>\n",
       "      <td>12749.0</td>\n",
       "      <td>24</td>\n",
       "      <td>143</td>\n",
       "      <td>2662.73</td>\n",
       "      <td>2</td>\n",
       "      <td>1</td>\n",
       "      <td>1</td>\n",
       "      <td>211</td>\n",
       "      <td>4</td>\n",
       "      <td>Platinum</td>\n",
       "    </tr>\n",
       "    <tr>\n",
       "      <th>3</th>\n",
       "      <td>12820.0</td>\n",
       "      <td>46</td>\n",
       "      <td>58</td>\n",
       "      <td>923.62</td>\n",
       "      <td>2</td>\n",
       "      <td>2</td>\n",
       "      <td>2</td>\n",
       "      <td>222</td>\n",
       "      <td>6</td>\n",
       "      <td>Gold</td>\n",
       "    </tr>\n",
       "    <tr>\n",
       "      <th>4</th>\n",
       "      <td>12821.0</td>\n",
       "      <td>97</td>\n",
       "      <td>5</td>\n",
       "      <td>75.72</td>\n",
       "      <td>3</td>\n",
       "      <td>4</td>\n",
       "      <td>4</td>\n",
       "      <td>344</td>\n",
       "      <td>11</td>\n",
       "      <td>Bronze</td>\n",
       "    </tr>\n",
       "  </tbody>\n",
       "</table>\n",
       "</div>"
      ],
      "text/plain": [
       "   CustomerID  Recency  Frequency  Monetary  R  F  M RFMGroup  RFMScore  \\\n",
       "0     12747.0       24         78   2640.41  2  2  1      221         5   \n",
       "1     12748.0        5       4041  20345.55  1  1  1      111         3   \n",
       "2     12749.0       24        143   2662.73  2  1  1      211         4   \n",
       "3     12820.0       46         58    923.62  2  2  2      222         6   \n",
       "4     12821.0       97          5     75.72  3  4  4      344        11   \n",
       "\n",
       "      Level  \n",
       "0  Platinum  \n",
       "1  Platinum  \n",
       "2  Platinum  \n",
       "3      Gold  \n",
       "4    Bronze  "
      ]
     },
     "execution_count": 28,
     "metadata": {},
     "output_type": "execute_result"
    }
   ],
   "source": [
    "# Assign Level to customer\n",
    "cluster_Level = ['Platinum', 'Gold', 'Silver', 'Bronze']\n",
    "Score_cuts = pd.qcut(RFM.RFMScore, q = 4, labels = cluster_Level)\n",
    "RFM['Level'] = Score_cuts.values\n",
    "RFM.reset_index().head()"
   ]
  },
  {
   "cell_type": "code",
   "execution_count": 29,
   "id": "97d00fcf",
   "metadata": {
    "scrolled": true
   },
   "outputs": [
    {
     "data": {
      "text/html": [
       "<div>\n",
       "<style scoped>\n",
       "    .dataframe tbody tr th:only-of-type {\n",
       "        vertical-align: middle;\n",
       "    }\n",
       "\n",
       "    .dataframe tbody tr th {\n",
       "        vertical-align: top;\n",
       "    }\n",
       "\n",
       "    .dataframe thead th {\n",
       "        text-align: right;\n",
       "    }\n",
       "</style>\n",
       "<table border=\"1\" class=\"dataframe\">\n",
       "  <thead>\n",
       "    <tr style=\"text-align: right;\">\n",
       "      <th></th>\n",
       "      <th>Monetary</th>\n",
       "      <th>Level</th>\n",
       "    </tr>\n",
       "    <tr>\n",
       "      <th>CustomerID</th>\n",
       "      <th></th>\n",
       "      <th></th>\n",
       "    </tr>\n",
       "  </thead>\n",
       "  <tbody>\n",
       "    <tr>\n",
       "      <th>12747.0</th>\n",
       "      <td>2640.41</td>\n",
       "      <td>Platinum</td>\n",
       "    </tr>\n",
       "    <tr>\n",
       "      <th>12748.0</th>\n",
       "      <td>20345.55</td>\n",
       "      <td>Platinum</td>\n",
       "    </tr>\n",
       "    <tr>\n",
       "      <th>12749.0</th>\n",
       "      <td>2662.73</td>\n",
       "      <td>Platinum</td>\n",
       "    </tr>\n",
       "    <tr>\n",
       "      <th>12820.0</th>\n",
       "      <td>923.62</td>\n",
       "      <td>Gold</td>\n",
       "    </tr>\n",
       "    <tr>\n",
       "      <th>12821.0</th>\n",
       "      <td>75.72</td>\n",
       "      <td>Bronze</td>\n",
       "    </tr>\n",
       "  </tbody>\n",
       "</table>\n",
       "</div>"
      ],
      "text/plain": [
       "            Monetary     Level\n",
       "CustomerID                    \n",
       "12747.0      2640.41  Platinum\n",
       "12748.0     20345.55  Platinum\n",
       "12749.0      2662.73  Platinum\n",
       "12820.0       923.62      Gold\n",
       "12821.0        75.72    Bronze"
      ]
     },
     "execution_count": 29,
     "metadata": {},
     "output_type": "execute_result"
    }
   ],
   "source": [
    "# Find number of customer & their payment in each cluster\n",
    "RFM_Cluster = RFM[['Monetary', 'Level']]\n",
    "RFM_Cluster.head()"
   ]
  },
  {
   "cell_type": "code",
   "execution_count": 30,
   "id": "44ee2e1e",
   "metadata": {},
   "outputs": [],
   "source": [
    "#Function on CSS created for this\n",
    "from IPython.display import display_html\n",
    "def display_side_by_side(*args):\n",
    "    html_str = ''\n",
    "    for df in args:\n",
    "        html_str += df.to_html() + \"\\xa0\" * 10 # space = \"\\xa0\" * 10\n",
    "    display_html(html_str.replace('table','table style = \"display:inline\"'), raw = True)"
   ]
  },
  {
   "cell_type": "code",
   "execution_count": 31,
   "id": "a87529b2",
   "metadata": {},
   "outputs": [],
   "source": [
    "# Split customer base on thier cluster\n",
    "\n",
    "# Platinum group\n",
    "df_Platinum = RFM_Cluster[RFM_Cluster['Level'] == 'Platinum']\n",
    "\n",
    "# Gold group\n",
    "df_Gold = RFM_Cluster[RFM_Cluster['Level'] == 'Gold']\n",
    "\n",
    "# Silver group\n",
    "df_Silver = RFM_Cluster[RFM_Cluster['Level'] == 'Silver']\n",
    "\n",
    "# Bronze group\n",
    "df_Bronze = RFM_Cluster[RFM_Cluster['Level'] == 'Bronze']"
   ]
  },
  {
   "cell_type": "code",
   "execution_count": 32,
   "id": "4921eeb3",
   "metadata": {
    "scrolled": false
   },
   "outputs": [
    {
     "data": {
      "text/html": [
       "<table style = \"display:inline\" border=\"1\" class=\"dataframe\">\n",
       "  <thead>\n",
       "    <tr style=\"text-align: right;\">\n",
       "      <th></th>\n",
       "      <th>Monetary</th>\n",
       "      <th>Level</th>\n",
       "    </tr>\n",
       "    <tr>\n",
       "      <th>CustomerID</th>\n",
       "      <th></th>\n",
       "      <th></th>\n",
       "    </tr>\n",
       "  </thead>\n",
       "  <tbody>\n",
       "    <tr>\n",
       "      <th>12747.0</th>\n",
       "      <td>2640.41</td>\n",
       "      <td>Platinum</td>\n",
       "    </tr>\n",
       "    <tr>\n",
       "      <th>12748.0</th>\n",
       "      <td>20345.55</td>\n",
       "      <td>Platinum</td>\n",
       "    </tr>\n",
       "    <tr>\n",
       "      <th>12749.0</th>\n",
       "      <td>2662.73</td>\n",
       "      <td>Platinum</td>\n",
       "    </tr>\n",
       "    <tr>\n",
       "      <th>12826.0</th>\n",
       "      <td>1438.30</td>\n",
       "      <td>Platinum</td>\n",
       "    </tr>\n",
       "    <tr>\n",
       "      <th>12836.0</th>\n",
       "      <td>1620.12</td>\n",
       "      <td>Platinum</td>\n",
       "    </tr>\n",
       "  </tbody>\n",
       "</table style = \"display:inline\">          <table style = \"display:inline\" border=\"1\" class=\"dataframe\">\n",
       "  <thead>\n",
       "    <tr style=\"text-align: right;\">\n",
       "      <th></th>\n",
       "      <th>Monetary</th>\n",
       "      <th>Level</th>\n",
       "    </tr>\n",
       "    <tr>\n",
       "      <th>CustomerID</th>\n",
       "      <th></th>\n",
       "      <th></th>\n",
       "    </tr>\n",
       "  </thead>\n",
       "  <tbody>\n",
       "    <tr>\n",
       "      <th>12820.0</th>\n",
       "      <td>923.62</td>\n",
       "      <td>Gold</td>\n",
       "    </tr>\n",
       "    <tr>\n",
       "      <th>12822.0</th>\n",
       "      <td>743.28</td>\n",
       "      <td>Gold</td>\n",
       "    </tr>\n",
       "    <tr>\n",
       "      <th>12824.0</th>\n",
       "      <td>316.42</td>\n",
       "      <td>Gold</td>\n",
       "    </tr>\n",
       "    <tr>\n",
       "      <th>12827.0</th>\n",
       "      <td>430.15</td>\n",
       "      <td>Gold</td>\n",
       "    </tr>\n",
       "    <tr>\n",
       "      <th>12828.0</th>\n",
       "      <td>961.96</td>\n",
       "      <td>Gold</td>\n",
       "    </tr>\n",
       "  </tbody>\n",
       "</table style = \"display:inline\">          <table style = \"display:inline\" border=\"1\" class=\"dataframe\">\n",
       "  <thead>\n",
       "    <tr style=\"text-align: right;\">\n",
       "      <th></th>\n",
       "      <th>Monetary</th>\n",
       "      <th>Level</th>\n",
       "    </tr>\n",
       "    <tr>\n",
       "      <th>CustomerID</th>\n",
       "      <th></th>\n",
       "      <th></th>\n",
       "    </tr>\n",
       "  </thead>\n",
       "  <tbody>\n",
       "    <tr>\n",
       "      <th>12832.0</th>\n",
       "      <td>366.53</td>\n",
       "      <td>Silver</td>\n",
       "    </tr>\n",
       "    <tr>\n",
       "      <th>12833.0</th>\n",
       "      <td>292.03</td>\n",
       "      <td>Silver</td>\n",
       "    </tr>\n",
       "    <tr>\n",
       "      <th>12851.0</th>\n",
       "      <td>104.91</td>\n",
       "      <td>Silver</td>\n",
       "    </tr>\n",
       "    <tr>\n",
       "      <th>12852.0</th>\n",
       "      <td>264.15</td>\n",
       "      <td>Silver</td>\n",
       "    </tr>\n",
       "    <tr>\n",
       "      <th>12863.0</th>\n",
       "      <td>109.20</td>\n",
       "      <td>Silver</td>\n",
       "    </tr>\n",
       "  </tbody>\n",
       "</table style = \"display:inline\">          <table style = \"display:inline\" border=\"1\" class=\"dataframe\">\n",
       "  <thead>\n",
       "    <tr style=\"text-align: right;\">\n",
       "      <th></th>\n",
       "      <th>Monetary</th>\n",
       "      <th>Level</th>\n",
       "    </tr>\n",
       "    <tr>\n",
       "      <th>CustomerID</th>\n",
       "      <th></th>\n",
       "      <th></th>\n",
       "    </tr>\n",
       "  </thead>\n",
       "  <tbody>\n",
       "    <tr>\n",
       "      <th>12821.0</th>\n",
       "      <td>75.72</td>\n",
       "      <td>Bronze</td>\n",
       "    </tr>\n",
       "    <tr>\n",
       "      <th>12829.0</th>\n",
       "      <td>28.50</td>\n",
       "      <td>Bronze</td>\n",
       "    </tr>\n",
       "    <tr>\n",
       "      <th>12831.0</th>\n",
       "      <td>124.75</td>\n",
       "      <td>Bronze</td>\n",
       "    </tr>\n",
       "    <tr>\n",
       "      <th>12834.0</th>\n",
       "      <td>201.08</td>\n",
       "      <td>Bronze</td>\n",
       "    </tr>\n",
       "    <tr>\n",
       "      <th>12837.0</th>\n",
       "      <td>58.75</td>\n",
       "      <td>Bronze</td>\n",
       "    </tr>\n",
       "  </tbody>\n",
       "</table style = \"display:inline\">          "
      ]
     },
     "metadata": {},
     "output_type": "display_data"
    }
   ],
   "source": [
    "display_side_by_side(df_Platinum.head(), df_Gold.head(), df_Silver.head(), df_Bronze.head())"
   ]
  },
  {
   "cell_type": "code",
   "execution_count": 33,
   "id": "74856d70",
   "metadata": {},
   "outputs": [
    {
     "data": {
      "text/html": [
       "<table style = \"display:inline\" border=\"1\" class=\"dataframe\">\n",
       "  <thead>\n",
       "    <tr style=\"text-align: right;\">\n",
       "      <th></th>\n",
       "      <th>Monetary</th>\n",
       "    </tr>\n",
       "  </thead>\n",
       "  <tbody>\n",
       "    <tr>\n",
       "      <th>count</th>\n",
       "      <td>1128.000000</td>\n",
       "    </tr>\n",
       "    <tr>\n",
       "      <th>mean</th>\n",
       "      <td>2368.277270</td>\n",
       "    </tr>\n",
       "    <tr>\n",
       "      <th>std</th>\n",
       "      <td>2706.560805</td>\n",
       "    </tr>\n",
       "    <tr>\n",
       "      <th>min</th>\n",
       "      <td>202.970000</td>\n",
       "    </tr>\n",
       "    <tr>\n",
       "      <th>25%</th>\n",
       "      <td>1109.250000</td>\n",
       "    </tr>\n",
       "    <tr>\n",
       "      <th>50%</th>\n",
       "      <td>1710.280000</td>\n",
       "    </tr>\n",
       "    <tr>\n",
       "      <th>75%</th>\n",
       "      <td>2683.940000</td>\n",
       "    </tr>\n",
       "    <tr>\n",
       "      <th>max</th>\n",
       "      <td>36019.840000</td>\n",
       "    </tr>\n",
       "  </tbody>\n",
       "</table style = \"display:inline\">          <table style = \"display:inline\" border=\"1\" class=\"dataframe\">\n",
       "  <thead>\n",
       "    <tr style=\"text-align: right;\">\n",
       "      <th></th>\n",
       "      <th>Monetary</th>\n",
       "    </tr>\n",
       "  </thead>\n",
       "  <tbody>\n",
       "    <tr>\n",
       "      <th>count</th>\n",
       "      <td>1121.000000</td>\n",
       "    </tr>\n",
       "    <tr>\n",
       "      <th>mean</th>\n",
       "      <td>619.207415</td>\n",
       "    </tr>\n",
       "    <tr>\n",
       "      <th>std</th>\n",
       "      <td>379.991276</td>\n",
       "    </tr>\n",
       "    <tr>\n",
       "      <th>min</th>\n",
       "      <td>82.070000</td>\n",
       "    </tr>\n",
       "    <tr>\n",
       "      <th>25%</th>\n",
       "      <td>349.360000</td>\n",
       "    </tr>\n",
       "    <tr>\n",
       "      <th>50%</th>\n",
       "      <td>547.610000</td>\n",
       "    </tr>\n",
       "    <tr>\n",
       "      <th>75%</th>\n",
       "      <td>793.260000</td>\n",
       "    </tr>\n",
       "    <tr>\n",
       "      <th>max</th>\n",
       "      <td>4462.160000</td>\n",
       "    </tr>\n",
       "  </tbody>\n",
       "</table style = \"display:inline\">          <table style = \"display:inline\" border=\"1\" class=\"dataframe\">\n",
       "  <thead>\n",
       "    <tr style=\"text-align: right;\">\n",
       "      <th></th>\n",
       "      <th>Monetary</th>\n",
       "    </tr>\n",
       "  </thead>\n",
       "  <tbody>\n",
       "    <tr>\n",
       "      <th>count</th>\n",
       "      <td>840.000000</td>\n",
       "    </tr>\n",
       "    <tr>\n",
       "      <th>mean</th>\n",
       "      <td>258.678657</td>\n",
       "    </tr>\n",
       "    <tr>\n",
       "      <th>std</th>\n",
       "      <td>137.696667</td>\n",
       "    </tr>\n",
       "    <tr>\n",
       "      <th>min</th>\n",
       "      <td>6.900000</td>\n",
       "    </tr>\n",
       "    <tr>\n",
       "      <th>25%</th>\n",
       "      <td>151.460000</td>\n",
       "    </tr>\n",
       "    <tr>\n",
       "      <th>50%</th>\n",
       "      <td>251.250000</td>\n",
       "    </tr>\n",
       "    <tr>\n",
       "      <th>75%</th>\n",
       "      <td>337.062500</td>\n",
       "    </tr>\n",
       "    <tr>\n",
       "      <th>max</th>\n",
       "      <td>818.650000</td>\n",
       "    </tr>\n",
       "  </tbody>\n",
       "</table style = \"display:inline\">          <table style = \"display:inline\" border=\"1\" class=\"dataframe\">\n",
       "  <thead>\n",
       "    <tr style=\"text-align: right;\">\n",
       "      <th></th>\n",
       "      <th>Monetary</th>\n",
       "    </tr>\n",
       "  </thead>\n",
       "  <tbody>\n",
       "    <tr>\n",
       "      <th>count</th>\n",
       "      <td>694.000000</td>\n",
       "    </tr>\n",
       "    <tr>\n",
       "      <th>mean</th>\n",
       "      <td>124.800994</td>\n",
       "    </tr>\n",
       "    <tr>\n",
       "      <th>std</th>\n",
       "      <td>70.563373</td>\n",
       "    </tr>\n",
       "    <tr>\n",
       "      <th>min</th>\n",
       "      <td>1.900000</td>\n",
       "    </tr>\n",
       "    <tr>\n",
       "      <th>25%</th>\n",
       "      <td>75.412500</td>\n",
       "    </tr>\n",
       "    <tr>\n",
       "      <th>50%</th>\n",
       "      <td>116.990000</td>\n",
       "    </tr>\n",
       "    <tr>\n",
       "      <th>75%</th>\n",
       "      <td>164.332500</td>\n",
       "    </tr>\n",
       "    <tr>\n",
       "      <th>max</th>\n",
       "      <td>433.680000</td>\n",
       "    </tr>\n",
       "  </tbody>\n",
       "</table style = \"display:inline\">          "
      ]
     },
     "metadata": {},
     "output_type": "display_data"
    }
   ],
   "source": [
    "display_side_by_side(df_Platinum.describe(), df_Gold.describe(), df_Silver.describe(), df_Bronze.describe())"
   ]
  },
  {
   "cell_type": "code",
   "execution_count": 34,
   "id": "4c6ebb0a",
   "metadata": {},
   "outputs": [
    {
     "data": {
      "text/html": [
       "<div>\n",
       "<style scoped>\n",
       "    .dataframe tbody tr th:only-of-type {\n",
       "        vertical-align: middle;\n",
       "    }\n",
       "\n",
       "    .dataframe tbody tr th {\n",
       "        vertical-align: top;\n",
       "    }\n",
       "\n",
       "    .dataframe thead th {\n",
       "        text-align: right;\n",
       "    }\n",
       "</style>\n",
       "<table border=\"1\" class=\"dataframe\">\n",
       "  <thead>\n",
       "    <tr style=\"text-align: right;\">\n",
       "      <th></th>\n",
       "      <th>NumCust</th>\n",
       "      <th>Payment</th>\n",
       "    </tr>\n",
       "  </thead>\n",
       "  <tbody>\n",
       "    <tr>\n",
       "      <th>Platinum</th>\n",
       "      <td>1128</td>\n",
       "      <td>2671417</td>\n",
       "    </tr>\n",
       "    <tr>\n",
       "      <th>Gold</th>\n",
       "      <td>1121</td>\n",
       "      <td>694132</td>\n",
       "    </tr>\n",
       "    <tr>\n",
       "      <th>Silver</th>\n",
       "      <td>840</td>\n",
       "      <td>217290</td>\n",
       "    </tr>\n",
       "    <tr>\n",
       "      <th>Bronze</th>\n",
       "      <td>694</td>\n",
       "      <td>86612</td>\n",
       "    </tr>\n",
       "  </tbody>\n",
       "</table>\n",
       "</div>"
      ],
      "text/plain": [
       "          NumCust  Payment\n",
       "Platinum     1128  2671417\n",
       "Gold         1121   694132\n",
       "Silver        840   217290\n",
       "Bronze        694    86612"
      ]
     },
     "execution_count": 34,
     "metadata": {},
     "output_type": "execute_result"
    }
   ],
   "source": [
    "# calculate payment & count number of customer for each cluster\n",
    "RFM_compare = pd.DataFrame({'NumCust' : [df_Platinum['Monetary'].count(),\n",
    "                                          df_Gold['Monetary'].count(), \n",
    "                                          df_Silver['Monetary'].count(),\n",
    "                                          df_Bronze['Monetary'].count()],\n",
    "                            'Payment' : [round(df_Platinum['Monetary'].sum()), \n",
    "                                        round(df_Gold['Monetary'].sum()), \n",
    "                                        round(df_Silver['Monetary'].sum()), \n",
    "                                        round(df_Bronze['Monetary'].sum())]\n",
    "                    })\n",
    "\n",
    "RFM_compare = RFM_compare.set_axis(['Platinum', 'Gold', 'Silver', 'Bronze'])\n",
    "#RFM_compare = pd.DataFrame(RFM_compare.to_dict('index'))\n",
    "RFM_compare"
   ]
  },
  {
   "cell_type": "code",
   "execution_count": 35,
   "id": "071f5487",
   "metadata": {
    "scrolled": false
   },
   "outputs": [],
   "source": [
    "rfm_num_dic = RFM_compare['NumCust'].to_dict()\n",
    "rfm_pym_dic = RFM_compare['Payment'].to_dict()"
   ]
  },
  {
   "cell_type": "code",
   "execution_count": 36,
   "id": "2fb86de2",
   "metadata": {},
   "outputs": [
    {
     "data": {
      "image/png": "[encoded data removed]",
      "text/plain": [
       "<Figure size 864x288 with 2 Axes>"
      ]
     },
     "metadata": {
      "needs_background": "light"
     },
     "output_type": "display_data"
    }
   ],
   "source": [
    "fig = plt.figure(figsize = (12, 4))\n",
    "ax1 = plt.subplot2grid((1,2), (0,0)) \n",
    "ax2 = plt.subplot2grid((1,2), (0,1)) \n",
    "\n",
    "# Number of customer in each cluster\n",
    "ax1.bar(rfm_num_dic.keys(), rfm_num_dic.values(), color = ['green', 'blue', 'red', '#4a8cff'])\n",
    "ax1.set_title(\"Number of customer by cluster\")\n",
    "ax1.set_ylabel('Number of customer')\n",
    "\n",
    "# Total payment of each cluster\n",
    "ax2.bar(rfm_pym_dic.keys(), rfm_pym_dic.values(), color = ['green', 'blue', 'red', '#4a8cff'])\n",
    "ax2.set_title(\"Total payment by cluster\")\n",
    "x = ax2.set_ylabel('Payment(million)')"
   ]
  },
  {
   "cell_type": "code",
   "execution_count": 37,
   "id": "f0a90923",
   "metadata": {},
   "outputs": [
    {
     "data": {
      "text/plain": [
       "<function matplotlib.pyplot.show(close=None, block=None)>"
      ]
     },
     "execution_count": 37,
     "metadata": {},
     "output_type": "execute_result"
    },
    {
     "data": {
      "image/png": "[encoded data removed]",
      "text/plain": [
       "<Figure size 1080x432 with 3 Axes>"
      ]
     },
     "metadata": {
      "needs_background": "light"
     },
     "output_type": "display_data"
    }
   ],
   "source": [
    "# distribution of Recency, Frequency, and Monetary\n",
    "plt.figure(1, figsize = (15, 6))\n",
    "n = 0\n",
    "for x in ['Recency', 'Frequency', 'Monetary']:\n",
    "    n += 1\n",
    "    plt.subplot(1, 3, n)\n",
    "    plt.subplots_adjust(hspace = 0.5, wspace = 0.5)\n",
    "    sns.distplot([RFM[x]], bins = 20)\n",
    "    plt.title('Distplot of {}'.format(x))\n",
    "plt.show"
   ]
  },
  {
   "cell_type": "markdown",
   "id": "00f85195",
   "metadata": {},
   "source": [
    "Based on graph above, the data is highly skewed, therefore we will perform log transformations to reduce the skewness of each variable. We added a small constant as log transformation demands all the values to be positive."
   ]
  },
  {
   "cell_type": "code",
   "execution_count": 38,
   "id": "004a976f",
   "metadata": {
    "scrolled": false
   },
   "outputs": [
    {
     "data": {
      "text/html": [
       "<div>\n",
       "<style scoped>\n",
       "    .dataframe tbody tr th:only-of-type {\n",
       "        vertical-align: middle;\n",
       "    }\n",
       "\n",
       "    .dataframe tbody tr th {\n",
       "        vertical-align: top;\n",
       "    }\n",
       "\n",
       "    .dataframe thead th {\n",
       "        text-align: right;\n",
       "    }\n",
       "</style>\n",
       "<table border=\"1\" class=\"dataframe\">\n",
       "  <thead>\n",
       "    <tr style=\"text-align: right;\">\n",
       "      <th></th>\n",
       "      <th>Recency</th>\n",
       "      <th>Frequency</th>\n",
       "      <th>Monetary</th>\n",
       "    </tr>\n",
       "    <tr>\n",
       "      <th>CustomerID</th>\n",
       "      <th></th>\n",
       "      <th></th>\n",
       "      <th></th>\n",
       "    </tr>\n",
       "  </thead>\n",
       "  <tbody>\n",
       "    <tr>\n",
       "      <th>12747.0</th>\n",
       "      <td>3.178</td>\n",
       "      <td>4.357</td>\n",
       "      <td>7.879</td>\n",
       "    </tr>\n",
       "    <tr>\n",
       "      <th>12748.0</th>\n",
       "      <td>1.609</td>\n",
       "      <td>8.304</td>\n",
       "      <td>9.921</td>\n",
       "    </tr>\n",
       "    <tr>\n",
       "      <th>12749.0</th>\n",
       "      <td>3.178</td>\n",
       "      <td>4.963</td>\n",
       "      <td>7.887</td>\n",
       "    </tr>\n",
       "    <tr>\n",
       "      <th>12820.0</th>\n",
       "      <td>3.829</td>\n",
       "      <td>4.060</td>\n",
       "      <td>6.828</td>\n",
       "    </tr>\n",
       "    <tr>\n",
       "      <th>12821.0</th>\n",
       "      <td>4.575</td>\n",
       "      <td>1.609</td>\n",
       "      <td>4.327</td>\n",
       "    </tr>\n",
       "  </tbody>\n",
       "</table>\n",
       "</div>"
      ],
      "text/plain": [
       "            Recency  Frequency  Monetary\n",
       "CustomerID                              \n",
       "12747.0       3.178      4.357     7.879\n",
       "12748.0       1.609      8.304     9.921\n",
       "12749.0       3.178      4.963     7.887\n",
       "12820.0       3.829      4.060     6.828\n",
       "12821.0       4.575      1.609     4.327"
      ]
     },
     "execution_count": 38,
     "metadata": {},
     "output_type": "execute_result"
    }
   ],
   "source": [
    "# Removing Skewness: since our dateset has no negative value, so we will use log transformation to normalize data\n",
    "# Perform Log transformation to bring data into normal or near normal distribution\n",
    "Log_Tfd_Data = RFM[['Recency', 'Frequency', 'Monetary']].apply(np.log, axis = 1).round(3)\n",
    "Log_Tfd_Data.head()"
   ]
  },
  {
   "cell_type": "code",
   "execution_count": 39,
   "id": "a18babd6",
   "metadata": {},
   "outputs": [
    {
     "data": {
      "text/plain": [
       "<function matplotlib.pyplot.show(close=None, block=None)>"
      ]
     },
     "execution_count": 39,
     "metadata": {},
     "output_type": "execute_result"
    },
    {
     "data": {
      "image/png": "[encoded data removed]",
      "text/plain": [
       "<Figure size 1080x432 with 3 Axes>"
      ]
     },
     "metadata": {
      "needs_background": "light"
     },
     "output_type": "display_data"
    }
   ],
   "source": [
    "# distribution after nomalization\n",
    "plt.figure(1, figsize = (15, 6))\n",
    "n = 0\n",
    "for x in ['Recency', 'Frequency', 'Monetary']:\n",
    "    n += 1\n",
    "    plt.subplot(1, 3, n)\n",
    "    plt.subplots_adjust(hspace = 0.5, wspace = 0.5)\n",
    "    sns.distplot([Log_Tfd_Data[x]], bins = 20)\n",
    "    plt.title('Distplot of {}'.format(x))\n",
    "plt.show"
   ]
  },
  {
   "cell_type": "code",
   "execution_count": 40,
   "id": "b06d0e18",
   "metadata": {},
   "outputs": [
    {
     "data": {
      "text/plain": [
       "Recency      1.745183\n",
       "Frequency    1.748074\n",
       "Monetary     1.561339\n",
       "dtype: float64"
      ]
     },
     "execution_count": 40,
     "metadata": {},
     "output_type": "execute_result"
    }
   ],
   "source": [
    "# Check varian\n",
    "Log_Tfd_Data.var()"
   ]
  },
  {
   "cell_type": "code",
   "execution_count": 41,
   "id": "232be7c5",
   "metadata": {},
   "outputs": [],
   "source": [
    "# array of Recency & Frequency\n",
    "K_arr = H_arr = Log_Tfd_Data.iloc[:, [0, 1]].values"
   ]
  },
  {
   "cell_type": "markdown",
   "id": "8986dec2",
   "metadata": {},
   "source": [
    "## 4. K-Mean Cluster"
   ]
  },
  {
   "cell_type": "code",
   "execution_count": 42,
   "id": "65b30ed9",
   "metadata": {
    "scrolled": true
   },
   "outputs": [
    {
     "data": {
      "text/plain": [
       "{1: 19116.479716725877,\n",
       " 2: 9995.935683637046,\n",
       " 3: 7655.320797717048,\n",
       " 4: 6225.365205700745,\n",
       " 5: 5243.423108701959,\n",
       " 6: 4594.428184787114,\n",
       " 7: 4074.1953865289106,\n",
       " 8: 3686.4729269990517,\n",
       " 9: 3394.7064582534776,\n",
       " 10: 3140.8118412130543}"
      ]
     },
     "execution_count": 42,
     "metadata": {},
     "output_type": "execute_result"
    }
   ],
   "source": [
    "# Finding optimal number\n",
    "sum_of_sq_dist = {}\n",
    "for k in range(1, 11):\n",
    "    km = KMeans(n_clusters = k, init = 'k-means++', random_state = 0)\n",
    "    km = km.fit(Log_Tfd_Data)\n",
    "    sum_of_sq_dist[k] = km.inertia_\n",
    "\n",
    "sum_of_sq_dist"
   ]
  },
  {
   "cell_type": "code",
   "execution_count": 43,
   "id": "93e227e6",
   "metadata": {
    "scrolled": true
   },
   "outputs": [
    {
     "data": {
      "image/png": "[encoded data removed]",
      "text/plain": [
       "<Figure size 432x288 with 1 Axes>"
      ]
     },
     "metadata": {
      "needs_background": "light"
     },
     "output_type": "display_data"
    }
   ],
   "source": [
    "# Plot the graph for the sum of square distance values and Number of Clusters\n",
    "sns.pointplot(x = list(sum_of_sq_dist.keys()), y = list(sum_of_sq_dist.values()))\n",
    "plt.xlabel('Number of Clusters')\n",
    "plt.ylabel('Sum of Square Distances')\n",
    "plt.title('Elbow method for optimal')\n",
    "plt.show()"
   ]
  },
  {
   "cell_type": "markdown",
   "id": "f6d97805",
   "metadata": {},
   "source": [
    "According to the graph, optimal number is 3. However, we can try 4 or 5 based on business requirement."
   ]
  },
  {
   "cell_type": "code",
   "execution_count": 44,
   "id": "d6752517",
   "metadata": {},
   "outputs": [],
   "source": [
    "# Perform K-Mean Clustering or build the K-Means clustering model\n",
    "KMean_clust = KMeans(n_clusters = 3, init = 'k-means++', random_state = 0)\n",
    "KMean_clust.fit(Log_Tfd_Data)\n",
    "y_k = KMean_clust.fit_predict(K_arr)"
   ]
  },
  {
   "cell_type": "code",
   "execution_count": 45,
   "id": "ff110c25",
   "metadata": {
    "scrolled": false
   },
   "outputs": [
    {
     "data": {
      "image/png": "[encoded data removed]",
      "text/plain": [
       "<Figure size 720x576 with 1 Axes>"
      ]
     },
     "metadata": {
      "needs_background": "light"
     },
     "output_type": "display_data"
    }
   ],
   "source": [
    "plt.figure(figsize = (10, 8))\n",
    "plt.scatter(K_arr[y_k == 0, 0], K_arr[y_k == 0, 1], s = 30, c = 'red', label = 'Normal') #alpha = 0.5\n",
    "plt.scatter(K_arr[y_k == 1, 0], K_arr[y_k == 1, 1], s = 30, c = 'blue', label = 'Standard')\n",
    "plt.scatter(K_arr[y_k == 2, 0], K_arr[y_k == 2, 1], s = 30, c = 'green', label = 'VIP')\n",
    "\n",
    "plt.title('Segmentation based on K-Mean model', fontsize = 14)\n",
    "plt.xlabel('Recency', fontsize = 12)\n",
    "plt.ylabel('Frequency', fontsize = 12)\n",
    "plt.legend()\n",
    "plt.show()"
   ]
  },
  {
   "cell_type": "markdown",
   "id": "39f50249",
   "metadata": {},
   "source": [
    "Find number of customer & thier payment in each cluster"
   ]
  },
  {
   "cell_type": "code",
   "execution_count": 46,
   "id": "862956bc",
   "metadata": {},
   "outputs": [
    {
     "data": {
      "text/html": [
       "<div>\n",
       "<style scoped>\n",
       "    .dataframe tbody tr th:only-of-type {\n",
       "        vertical-align: middle;\n",
       "    }\n",
       "\n",
       "    .dataframe tbody tr th {\n",
       "        vertical-align: top;\n",
       "    }\n",
       "\n",
       "    .dataframe thead th {\n",
       "        text-align: right;\n",
       "    }\n",
       "</style>\n",
       "<table border=\"1\" class=\"dataframe\">\n",
       "  <thead>\n",
       "    <tr style=\"text-align: right;\">\n",
       "      <th></th>\n",
       "      <th>Recency</th>\n",
       "      <th>Frequency</th>\n",
       "      <th>Monetary</th>\n",
       "      <th>Clusters</th>\n",
       "    </tr>\n",
       "    <tr>\n",
       "      <th>CustomerID</th>\n",
       "      <th></th>\n",
       "      <th></th>\n",
       "      <th></th>\n",
       "      <th></th>\n",
       "    </tr>\n",
       "  </thead>\n",
       "  <tbody>\n",
       "    <tr>\n",
       "      <th>12747.0</th>\n",
       "      <td>24</td>\n",
       "      <td>78</td>\n",
       "      <td>2640.41</td>\n",
       "      <td>2</td>\n",
       "    </tr>\n",
       "    <tr>\n",
       "      <th>12748.0</th>\n",
       "      <td>5</td>\n",
       "      <td>4041</td>\n",
       "      <td>20345.55</td>\n",
       "      <td>2</td>\n",
       "    </tr>\n",
       "    <tr>\n",
       "      <th>12749.0</th>\n",
       "      <td>24</td>\n",
       "      <td>143</td>\n",
       "      <td>2662.73</td>\n",
       "      <td>2</td>\n",
       "    </tr>\n",
       "    <tr>\n",
       "      <th>12820.0</th>\n",
       "      <td>46</td>\n",
       "      <td>58</td>\n",
       "      <td>923.62</td>\n",
       "      <td>1</td>\n",
       "    </tr>\n",
       "    <tr>\n",
       "      <th>12821.0</th>\n",
       "      <td>97</td>\n",
       "      <td>5</td>\n",
       "      <td>75.72</td>\n",
       "      <td>0</td>\n",
       "    </tr>\n",
       "  </tbody>\n",
       "</table>\n",
       "</div>"
      ],
      "text/plain": [
       "            Recency  Frequency  Monetary  Clusters\n",
       "CustomerID                                        \n",
       "12747.0          24         78   2640.41         2\n",
       "12748.0           5       4041  20345.55         2\n",
       "12749.0          24        143   2662.73         2\n",
       "12820.0          46         58    923.62         1\n",
       "12821.0          97          5     75.72         0"
      ]
     },
     "execution_count": 46,
     "metadata": {},
     "output_type": "execute_result"
    }
   ],
   "source": [
    "# assign clustor to each customer\n",
    "df_cluster = RFM[['Recency', 'Frequency', 'Monetary']]\n",
    "df_cluster['Clusters'] = KMean_clust.labels_\n",
    "df_cluster.head()"
   ]
  },
  {
   "cell_type": "code",
   "execution_count": 47,
   "id": "6c1b5e27",
   "metadata": {
    "scrolled": false
   },
   "outputs": [],
   "source": [
    "# Split customer base on thier cluster\n",
    "\n",
    "df_VIP = df_cluster[df_cluster['Clusters'] == 2]\n",
    "df_VIP['Clusters'] = 'VIP'\n",
    "df_VIP = df_VIP[['Monetary', 'Clusters']]\n",
    "\n",
    "df_Standard = df_cluster[df_cluster['Clusters'] == 1]\n",
    "df_Standard['Clusters'] = 'Standard'\n",
    "df_Standard = df_Standard[['Monetary', 'Clusters']]\n",
    "\n",
    "df_Normal = df_cluster[df_cluster['Clusters'] == 0]\n",
    "df_Normal['Clusters'] = 'Normal'\n",
    "df_Normal = df_Normal[['Monetary', 'Clusters']]"
   ]
  },
  {
   "cell_type": "code",
   "execution_count": 48,
   "id": "1c46705e",
   "metadata": {},
   "outputs": [
    {
     "data": {
      "text/html": [
       "<table style = \"display:inline\" border=\"1\" class=\"dataframe\">\n",
       "  <thead>\n",
       "    <tr style=\"text-align: right;\">\n",
       "      <th></th>\n",
       "      <th>Monetary</th>\n",
       "      <th>Clusters</th>\n",
       "    </tr>\n",
       "    <tr>\n",
       "      <th>CustomerID</th>\n",
       "      <th></th>\n",
       "      <th></th>\n",
       "    </tr>\n",
       "  </thead>\n",
       "  <tbody>\n",
       "    <tr>\n",
       "      <th>12747.0</th>\n",
       "      <td>2640.41</td>\n",
       "      <td>VIP</td>\n",
       "    </tr>\n",
       "    <tr>\n",
       "      <th>12748.0</th>\n",
       "      <td>20345.55</td>\n",
       "      <td>VIP</td>\n",
       "    </tr>\n",
       "    <tr>\n",
       "      <th>12749.0</th>\n",
       "      <td>2662.73</td>\n",
       "      <td>VIP</td>\n",
       "    </tr>\n",
       "    <tr>\n",
       "      <th>12836.0</th>\n",
       "      <td>1620.12</td>\n",
       "      <td>VIP</td>\n",
       "    </tr>\n",
       "    <tr>\n",
       "      <th>12839.0</th>\n",
       "      <td>5115.12</td>\n",
       "      <td>VIP</td>\n",
       "    </tr>\n",
       "  </tbody>\n",
       "</table style = \"display:inline\">          <table style = \"display:inline\" border=\"1\" class=\"dataframe\">\n",
       "  <thead>\n",
       "    <tr style=\"text-align: right;\">\n",
       "      <th></th>\n",
       "      <th>Monetary</th>\n",
       "      <th>Clusters</th>\n",
       "    </tr>\n",
       "    <tr>\n",
       "      <th>CustomerID</th>\n",
       "      <th></th>\n",
       "      <th></th>\n",
       "    </tr>\n",
       "  </thead>\n",
       "  <tbody>\n",
       "    <tr>\n",
       "      <th>12820.0</th>\n",
       "      <td>923.62</td>\n",
       "      <td>Standard</td>\n",
       "    </tr>\n",
       "    <tr>\n",
       "      <th>12822.0</th>\n",
       "      <td>743.28</td>\n",
       "      <td>Standard</td>\n",
       "    </tr>\n",
       "    <tr>\n",
       "      <th>12824.0</th>\n",
       "      <td>316.42</td>\n",
       "      <td>Standard</td>\n",
       "    </tr>\n",
       "    <tr>\n",
       "      <th>12826.0</th>\n",
       "      <td>1438.30</td>\n",
       "      <td>Standard</td>\n",
       "    </tr>\n",
       "    <tr>\n",
       "      <th>12827.0</th>\n",
       "      <td>430.15</td>\n",
       "      <td>Standard</td>\n",
       "    </tr>\n",
       "  </tbody>\n",
       "</table style = \"display:inline\">          <table style = \"display:inline\" border=\"1\" class=\"dataframe\">\n",
       "  <thead>\n",
       "    <tr style=\"text-align: right;\">\n",
       "      <th></th>\n",
       "      <th>Monetary</th>\n",
       "      <th>Clusters</th>\n",
       "    </tr>\n",
       "    <tr>\n",
       "      <th>CustomerID</th>\n",
       "      <th></th>\n",
       "      <th></th>\n",
       "    </tr>\n",
       "  </thead>\n",
       "  <tbody>\n",
       "    <tr>\n",
       "      <th>12821.0</th>\n",
       "      <td>75.72</td>\n",
       "      <td>Normal</td>\n",
       "    </tr>\n",
       "    <tr>\n",
       "      <th>12829.0</th>\n",
       "      <td>28.50</td>\n",
       "      <td>Normal</td>\n",
       "    </tr>\n",
       "    <tr>\n",
       "      <th>12831.0</th>\n",
       "      <td>124.75</td>\n",
       "      <td>Normal</td>\n",
       "    </tr>\n",
       "    <tr>\n",
       "      <th>12833.0</th>\n",
       "      <td>292.03</td>\n",
       "      <td>Normal</td>\n",
       "    </tr>\n",
       "    <tr>\n",
       "      <th>12834.0</th>\n",
       "      <td>201.08</td>\n",
       "      <td>Normal</td>\n",
       "    </tr>\n",
       "  </tbody>\n",
       "</table style = \"display:inline\">          "
      ]
     },
     "metadata": {},
     "output_type": "display_data"
    }
   ],
   "source": [
    "display_side_by_side(df_VIP.head(), df_Standard.head(), df_Normal.head())"
   ]
  },
  {
   "cell_type": "code",
   "execution_count": 49,
   "id": "7e7f58c6",
   "metadata": {
    "scrolled": false
   },
   "outputs": [
    {
     "data": {
      "text/html": [
       "<table style = \"display:inline\" border=\"1\" class=\"dataframe\">\n",
       "  <thead>\n",
       "    <tr style=\"text-align: right;\">\n",
       "      <th></th>\n",
       "      <th>Monetary</th>\n",
       "    </tr>\n",
       "  </thead>\n",
       "  <tbody>\n",
       "    <tr>\n",
       "      <th>count</th>\n",
       "      <td>1270.000000</td>\n",
       "    </tr>\n",
       "    <tr>\n",
       "      <th>mean</th>\n",
       "      <td>1891.940094</td>\n",
       "    </tr>\n",
       "    <tr>\n",
       "      <th>std</th>\n",
       "      <td>2645.942909</td>\n",
       "    </tr>\n",
       "    <tr>\n",
       "      <th>min</th>\n",
       "      <td>46.920000</td>\n",
       "    </tr>\n",
       "    <tr>\n",
       "      <th>25%</th>\n",
       "      <td>581.420000</td>\n",
       "    </tr>\n",
       "    <tr>\n",
       "      <th>50%</th>\n",
       "      <td>1167.105000</td>\n",
       "    </tr>\n",
       "    <tr>\n",
       "      <th>75%</th>\n",
       "      <td>2275.027500</td>\n",
       "    </tr>\n",
       "    <tr>\n",
       "      <th>max</th>\n",
       "      <td>36019.840000</td>\n",
       "    </tr>\n",
       "  </tbody>\n",
       "</table style = \"display:inline\">          <table style = \"display:inline\" border=\"1\" class=\"dataframe\">\n",
       "  <thead>\n",
       "    <tr style=\"text-align: right;\">\n",
       "      <th></th>\n",
       "      <th>Monetary</th>\n",
       "    </tr>\n",
       "  </thead>\n",
       "  <tbody>\n",
       "    <tr>\n",
       "      <th>count</th>\n",
       "      <td>1368.000000</td>\n",
       "    </tr>\n",
       "    <tr>\n",
       "      <th>mean</th>\n",
       "      <td>778.242779</td>\n",
       "    </tr>\n",
       "    <tr>\n",
       "      <th>std</th>\n",
       "      <td>831.841390</td>\n",
       "    </tr>\n",
       "    <tr>\n",
       "      <th>min</th>\n",
       "      <td>20.920000</td>\n",
       "    </tr>\n",
       "    <tr>\n",
       "      <th>25%</th>\n",
       "      <td>332.955000</td>\n",
       "    </tr>\n",
       "    <tr>\n",
       "      <th>50%</th>\n",
       "      <td>530.580000</td>\n",
       "    </tr>\n",
       "    <tr>\n",
       "      <th>75%</th>\n",
       "      <td>935.790000</td>\n",
       "    </tr>\n",
       "    <tr>\n",
       "      <th>max</th>\n",
       "      <td>12077.380000</td>\n",
       "    </tr>\n",
       "  </tbody>\n",
       "</table style = \"display:inline\">          <table style = \"display:inline\" border=\"1\" class=\"dataframe\">\n",
       "  <thead>\n",
       "    <tr style=\"text-align: right;\">\n",
       "      <th></th>\n",
       "      <th>Monetary</th>\n",
       "    </tr>\n",
       "  </thead>\n",
       "  <tbody>\n",
       "    <tr>\n",
       "      <th>count</th>\n",
       "      <td>1145.000000</td>\n",
       "    </tr>\n",
       "    <tr>\n",
       "      <th>mean</th>\n",
       "      <td>176.463050</td>\n",
       "    </tr>\n",
       "    <tr>\n",
       "      <th>std</th>\n",
       "      <td>132.513529</td>\n",
       "    </tr>\n",
       "    <tr>\n",
       "      <th>min</th>\n",
       "      <td>1.900000</td>\n",
       "    </tr>\n",
       "    <tr>\n",
       "      <th>25%</th>\n",
       "      <td>88.500000</td>\n",
       "    </tr>\n",
       "    <tr>\n",
       "      <th>50%</th>\n",
       "      <td>150.100000</td>\n",
       "    </tr>\n",
       "    <tr>\n",
       "      <th>75%</th>\n",
       "      <td>238.650000</td>\n",
       "    </tr>\n",
       "    <tr>\n",
       "      <th>max</th>\n",
       "      <td>1357.740000</td>\n",
       "    </tr>\n",
       "  </tbody>\n",
       "</table style = \"display:inline\">          "
      ]
     },
     "metadata": {},
     "output_type": "display_data"
    }
   ],
   "source": [
    "display_side_by_side(df_VIP.describe(), df_Standard.describe(), df_Normal.describe())"
   ]
  },
  {
   "cell_type": "code",
   "execution_count": 50,
   "id": "504103cd",
   "metadata": {},
   "outputs": [],
   "source": [
    "# calculate payment for each cluster\n",
    "temStr = {'NumCust': {'VIP': df_VIP['Monetary'].count(),\n",
    "                      'Standard': df_Standard['Monetary'].count(),\n",
    "                      'Normal': df_Normal['Monetary'].count()},\n",
    "          \n",
    "          'Payment': {'VIP': round(df_VIP['Monetary'].sum()),\n",
    "                      'Standard': round(df_Standard['Monetary'].sum()),\n",
    "                      'Normal': round(df_Normal['Monetary'].sum())}\n",
    "          }"
   ]
  },
  {
   "cell_type": "code",
   "execution_count": 51,
   "id": "0e9d89e2",
   "metadata": {},
   "outputs": [
    {
     "data": {
      "text/html": [
       "<div>\n",
       "<style scoped>\n",
       "    .dataframe tbody tr th:only-of-type {\n",
       "        vertical-align: middle;\n",
       "    }\n",
       "\n",
       "    .dataframe tbody tr th {\n",
       "        vertical-align: top;\n",
       "    }\n",
       "\n",
       "    .dataframe thead th {\n",
       "        text-align: right;\n",
       "    }\n",
       "</style>\n",
       "<table border=\"1\" class=\"dataframe\">\n",
       "  <thead>\n",
       "    <tr style=\"text-align: right;\">\n",
       "      <th></th>\n",
       "      <th>NumCust</th>\n",
       "      <th>Payment</th>\n",
       "    </tr>\n",
       "  </thead>\n",
       "  <tbody>\n",
       "    <tr>\n",
       "      <th>VIP</th>\n",
       "      <td>1270</td>\n",
       "      <td>2402764</td>\n",
       "    </tr>\n",
       "    <tr>\n",
       "      <th>Standard</th>\n",
       "      <td>1368</td>\n",
       "      <td>1064636</td>\n",
       "    </tr>\n",
       "    <tr>\n",
       "      <th>Normal</th>\n",
       "      <td>1145</td>\n",
       "      <td>202050</td>\n",
       "    </tr>\n",
       "  </tbody>\n",
       "</table>\n",
       "</div>"
      ],
      "text/plain": [
       "          NumCust  Payment\n",
       "VIP          1270  2402764\n",
       "Standard     1368  1064636\n",
       "Normal       1145   202050"
      ]
     },
     "execution_count": 51,
     "metadata": {},
     "output_type": "execute_result"
    }
   ],
   "source": [
    "# dictionary to df\n",
    "Kmean_compare = pd.DataFrame(temStr)\n",
    "Kmean_compare"
   ]
  },
  {
   "cell_type": "code",
   "execution_count": 52,
   "id": "5faeae95",
   "metadata": {},
   "outputs": [],
   "source": [
    "Kmean_num_dic = Kmean_compare['NumCust'].to_dict()\n",
    "Kmean_pym_dic = Kmean_compare['Payment'].to_dict()"
   ]
  },
  {
   "cell_type": "code",
   "execution_count": 53,
   "id": "6c74494e",
   "metadata": {},
   "outputs": [
    {
     "data": {
      "image/png": "[encoded data removed]",
      "text/plain": [
       "<Figure size 864x288 with 2 Axes>"
      ]
     },
     "metadata": {
      "needs_background": "light"
     },
     "output_type": "display_data"
    }
   ],
   "source": [
    "fig = plt.figure(figsize = (12, 4))\n",
    "ax1 = plt.subplot2grid((1,2), (0,0)) \n",
    "ax2 = plt.subplot2grid((1,2), (0,1)) \n",
    "\n",
    "# Number of customer in each cluster\n",
    "ax1.bar(Kmean_num_dic.keys(), Kmean_num_dic.values(), color = ['green', 'blue', 'red'])\n",
    "ax1.set_title(\"Number of customer by cluster\")\n",
    "ax1.set_ylabel('Number of customer')\n",
    "\n",
    "# Total payment of each cluster\n",
    "ax2.bar(Kmean_pym_dic.keys(), Kmean_pym_dic.values(), color = ['green', 'blue', 'red'])\n",
    "ax2.set_title(\"Total payment by cluster\")\n",
    "x = ax2.set_ylabel('Payment(million)')"
   ]
  },
  {
   "cell_type": "markdown",
   "id": "fbf38768",
   "metadata": {},
   "source": [
    "## 5. Hierarchical Cluster"
   ]
  },
  {
   "cell_type": "code",
   "execution_count": 54,
   "id": "006575ec",
   "metadata": {},
   "outputs": [
    {
     "data": {
      "image/png": "[encoded data removed]",
      "text/plain": [
       "<Figure size 720x576 with 1 Axes>"
      ]
     },
     "metadata": {
      "needs_background": "light"
     },
     "output_type": "display_data"
    }
   ],
   "source": [
    "# plot Dendrogram to see otimal number\n",
    "plt.figure(figsize = (10, 8))\n",
    "dendrogram = sch.dendrogram(sch.linkage(H_arr, method = 'ward'))\n",
    "plt.title('Agglomerative method for optimal', fontsize = 14)\n",
    "plt.xlabel('Recency', fontsize = 12)\n",
    "plt.ylabel('Frequency', fontsize = 12)\n",
    "plt.show()"
   ]
  },
  {
   "cell_type": "markdown",
   "id": "a278ec82",
   "metadata": {},
   "source": [
    "According to the graph, we can use optimal number as 2 clusters. We can also choose 3 or 4 clusters. But in our case we will choose 3 clusters because we need to compare the result with K-Mean model. "
   ]
  },
  {
   "cell_type": "code",
   "execution_count": 55,
   "id": "81d92b62",
   "metadata": {},
   "outputs": [],
   "source": [
    "# Perform hierarchical clustering model (Train model and predict the cluster for each data point)\n",
    "hCluster = AgglomerativeClustering(n_clusters = 3, affinity = 'euclidean', linkage = 'ward')\n",
    "y_hc = hCluster.fit_predict(H_arr) # array y_hc contain on 3 elements: 0, 1, 2"
   ]
  },
  {
   "cell_type": "code",
   "execution_count": 56,
   "id": "46171475",
   "metadata": {
    "scrolled": false
   },
   "outputs": [
    {
     "data": {
      "image/png": "[encoded data removed]",
      "text/plain": [
       "<Figure size 720x576 with 1 Axes>"
      ]
     },
     "metadata": {
      "needs_background": "light"
     },
     "output_type": "display_data"
    }
   ],
   "source": [
    "plt.figure(figsize = (10, 8))\n",
    "plt.scatter(H_arr[y_hc == 0, 0], H_arr[y_hc == 0, 1], s = 30, c = 'blue', label = 'Standard')\n",
    "plt.scatter(H_arr[y_hc == 1, 0], H_arr[y_hc == 1, 1], s = 30, c = 'red', label = 'Normal')\n",
    "plt.scatter(H_arr[y_hc == 2, 0], H_arr[y_hc == 2, 1], s = 30, c = 'green', label = 'VIP')\n",
    "plt.title('Segmentation based on Hierarchical model', fontsize = 14)\n",
    "plt.xlabel('Recency', fontsize = 12)\n",
    "plt.ylabel('Frequency', fontsize = 12)\n",
    "plt.legend()\n",
    "plt.show()"
   ]
  },
  {
   "cell_type": "markdown",
   "id": "1c576a0a",
   "metadata": {},
   "source": [
    "Find number of customer & thier payment in each cluster"
   ]
  },
  {
   "cell_type": "code",
   "execution_count": 57,
   "id": "170d6768",
   "metadata": {
    "scrolled": true
   },
   "outputs": [
    {
     "data": {
      "text/html": [
       "<div>\n",
       "<style scoped>\n",
       "    .dataframe tbody tr th:only-of-type {\n",
       "        vertical-align: middle;\n",
       "    }\n",
       "\n",
       "    .dataframe tbody tr th {\n",
       "        vertical-align: top;\n",
       "    }\n",
       "\n",
       "    .dataframe thead th {\n",
       "        text-align: right;\n",
       "    }\n",
       "</style>\n",
       "<table border=\"1\" class=\"dataframe\">\n",
       "  <thead>\n",
       "    <tr style=\"text-align: right;\">\n",
       "      <th></th>\n",
       "      <th>Recency</th>\n",
       "      <th>Frequency</th>\n",
       "      <th>Monetary</th>\n",
       "      <th>Clusters</th>\n",
       "    </tr>\n",
       "    <tr>\n",
       "      <th>CustomerID</th>\n",
       "      <th></th>\n",
       "      <th></th>\n",
       "      <th></th>\n",
       "      <th></th>\n",
       "    </tr>\n",
       "  </thead>\n",
       "  <tbody>\n",
       "    <tr>\n",
       "      <th>12747.0</th>\n",
       "      <td>24</td>\n",
       "      <td>78</td>\n",
       "      <td>2640.41</td>\n",
       "      <td>0</td>\n",
       "    </tr>\n",
       "    <tr>\n",
       "      <th>12748.0</th>\n",
       "      <td>5</td>\n",
       "      <td>4041</td>\n",
       "      <td>20345.55</td>\n",
       "      <td>2</td>\n",
       "    </tr>\n",
       "    <tr>\n",
       "      <th>12749.0</th>\n",
       "      <td>24</td>\n",
       "      <td>143</td>\n",
       "      <td>2662.73</td>\n",
       "      <td>2</td>\n",
       "    </tr>\n",
       "    <tr>\n",
       "      <th>12820.0</th>\n",
       "      <td>46</td>\n",
       "      <td>58</td>\n",
       "      <td>923.62</td>\n",
       "      <td>0</td>\n",
       "    </tr>\n",
       "    <tr>\n",
       "      <th>12821.0</th>\n",
       "      <td>97</td>\n",
       "      <td>5</td>\n",
       "      <td>75.72</td>\n",
       "      <td>1</td>\n",
       "    </tr>\n",
       "  </tbody>\n",
       "</table>\n",
       "</div>"
      ],
      "text/plain": [
       "            Recency  Frequency  Monetary  Clusters\n",
       "CustomerID                                        \n",
       "12747.0          24         78   2640.41         0\n",
       "12748.0           5       4041  20345.55         2\n",
       "12749.0          24        143   2662.73         2\n",
       "12820.0          46         58    923.62         0\n",
       "12821.0          97          5     75.72         1"
      ]
     },
     "execution_count": 57,
     "metadata": {},
     "output_type": "execute_result"
    }
   ],
   "source": [
    "# assign clustor to each customer\n",
    "df_cluster = RFM[['Recency', 'Frequency', 'Monetary']]\n",
    "df_cluster['Clusters'] = hCluster.labels_\n",
    "df_cluster.head()"
   ]
  },
  {
   "cell_type": "code",
   "execution_count": 58,
   "id": "75a43786",
   "metadata": {},
   "outputs": [],
   "source": [
    "# cluster number 2 is VIP group\n",
    "df_VIP = df_cluster[df_cluster['Clusters'] == 2]\n",
    "df_VIP['Clusters'] = 'VIP'\n",
    "df_VIP = df_VIP[['Monetary', 'Clusters']]\n",
    "\n",
    "# cluster number 1 is standard group\n",
    "df_Standard = df_cluster[df_cluster['Clusters'] == 1]\n",
    "df_Standard['Clusters'] = 'Standard'\n",
    "df_Standard = df_Standard[['Monetary', 'Clusters']]\n",
    "\n",
    "# cluster number 0 is Normal group\n",
    "df_Normal = df_cluster[df_cluster['Clusters'] == 0]\n",
    "df_Normal['Clusters'] = 'Normal'\n",
    "df_Normal = df_Normal[['Monetary', 'Clusters']]"
   ]
  },
  {
   "cell_type": "code",
   "execution_count": 59,
   "id": "cc03b26c",
   "metadata": {},
   "outputs": [
    {
     "data": {
      "text/html": [
       "<table style = \"display:inline\" border=\"1\" class=\"dataframe\">\n",
       "  <thead>\n",
       "    <tr style=\"text-align: right;\">\n",
       "      <th></th>\n",
       "      <th>Monetary</th>\n",
       "      <th>Clusters</th>\n",
       "    </tr>\n",
       "    <tr>\n",
       "      <th>CustomerID</th>\n",
       "      <th></th>\n",
       "      <th></th>\n",
       "    </tr>\n",
       "  </thead>\n",
       "  <tbody>\n",
       "    <tr>\n",
       "      <th>12748.0</th>\n",
       "      <td>20345.55</td>\n",
       "      <td>VIP</td>\n",
       "    </tr>\n",
       "    <tr>\n",
       "      <th>12749.0</th>\n",
       "      <td>2662.73</td>\n",
       "      <td>VIP</td>\n",
       "    </tr>\n",
       "    <tr>\n",
       "      <th>12836.0</th>\n",
       "      <td>1620.12</td>\n",
       "      <td>VIP</td>\n",
       "    </tr>\n",
       "    <tr>\n",
       "      <th>12839.0</th>\n",
       "      <td>5115.12</td>\n",
       "      <td>VIP</td>\n",
       "    </tr>\n",
       "    <tr>\n",
       "      <th>12841.0</th>\n",
       "      <td>3308.77</td>\n",
       "      <td>VIP</td>\n",
       "    </tr>\n",
       "  </tbody>\n",
       "</table style = \"display:inline\">          <table style = \"display:inline\" border=\"1\" class=\"dataframe\">\n",
       "  <thead>\n",
       "    <tr style=\"text-align: right;\">\n",
       "      <th></th>\n",
       "      <th>Monetary</th>\n",
       "      <th>Clusters</th>\n",
       "    </tr>\n",
       "    <tr>\n",
       "      <th>CustomerID</th>\n",
       "      <th></th>\n",
       "      <th></th>\n",
       "    </tr>\n",
       "  </thead>\n",
       "  <tbody>\n",
       "    <tr>\n",
       "      <th>12821.0</th>\n",
       "      <td>75.72</td>\n",
       "      <td>Standard</td>\n",
       "    </tr>\n",
       "    <tr>\n",
       "      <th>12829.0</th>\n",
       "      <td>28.50</td>\n",
       "      <td>Standard</td>\n",
       "    </tr>\n",
       "    <tr>\n",
       "      <th>12831.0</th>\n",
       "      <td>124.75</td>\n",
       "      <td>Standard</td>\n",
       "    </tr>\n",
       "    <tr>\n",
       "      <th>12832.0</th>\n",
       "      <td>366.53</td>\n",
       "      <td>Standard</td>\n",
       "    </tr>\n",
       "    <tr>\n",
       "      <th>12833.0</th>\n",
       "      <td>292.03</td>\n",
       "      <td>Standard</td>\n",
       "    </tr>\n",
       "  </tbody>\n",
       "</table style = \"display:inline\">          <table style = \"display:inline\" border=\"1\" class=\"dataframe\">\n",
       "  <thead>\n",
       "    <tr style=\"text-align: right;\">\n",
       "      <th></th>\n",
       "      <th>Monetary</th>\n",
       "      <th>Clusters</th>\n",
       "    </tr>\n",
       "    <tr>\n",
       "      <th>CustomerID</th>\n",
       "      <th></th>\n",
       "      <th></th>\n",
       "    </tr>\n",
       "  </thead>\n",
       "  <tbody>\n",
       "    <tr>\n",
       "      <th>12747.0</th>\n",
       "      <td>2640.41</td>\n",
       "      <td>Normal</td>\n",
       "    </tr>\n",
       "    <tr>\n",
       "      <th>12820.0</th>\n",
       "      <td>923.62</td>\n",
       "      <td>Normal</td>\n",
       "    </tr>\n",
       "    <tr>\n",
       "      <th>12822.0</th>\n",
       "      <td>743.28</td>\n",
       "      <td>Normal</td>\n",
       "    </tr>\n",
       "    <tr>\n",
       "      <th>12824.0</th>\n",
       "      <td>316.42</td>\n",
       "      <td>Normal</td>\n",
       "    </tr>\n",
       "    <tr>\n",
       "      <th>12826.0</th>\n",
       "      <td>1438.30</td>\n",
       "      <td>Normal</td>\n",
       "    </tr>\n",
       "  </tbody>\n",
       "</table style = \"display:inline\">          "
      ]
     },
     "metadata": {},
     "output_type": "display_data"
    }
   ],
   "source": [
    "display_side_by_side(df_VIP.head(), df_Standard.head(), df_Normal.head())"
   ]
  },
  {
   "cell_type": "code",
   "execution_count": 60,
   "id": "3d4c4eed",
   "metadata": {},
   "outputs": [
    {
     "data": {
      "text/html": [
       "<table style = \"display:inline\" border=\"1\" class=\"dataframe\">\n",
       "  <thead>\n",
       "    <tr style=\"text-align: right;\">\n",
       "      <th></th>\n",
       "      <th>Monetary</th>\n",
       "    </tr>\n",
       "  </thead>\n",
       "  <tbody>\n",
       "    <tr>\n",
       "      <th>count</th>\n",
       "      <td>709.000000</td>\n",
       "    </tr>\n",
       "    <tr>\n",
       "      <th>mean</th>\n",
       "      <td>2671.764725</td>\n",
       "    </tr>\n",
       "    <tr>\n",
       "      <th>std</th>\n",
       "      <td>3154.398962</td>\n",
       "    </tr>\n",
       "    <tr>\n",
       "      <th>min</th>\n",
       "      <td>19.800000</td>\n",
       "    </tr>\n",
       "    <tr>\n",
       "      <th>25%</th>\n",
       "      <td>1045.360000</td>\n",
       "    </tr>\n",
       "    <tr>\n",
       "      <th>50%</th>\n",
       "      <td>1955.390000</td>\n",
       "    </tr>\n",
       "    <tr>\n",
       "      <th>75%</th>\n",
       "      <td>3278.100000</td>\n",
       "    </tr>\n",
       "    <tr>\n",
       "      <th>max</th>\n",
       "      <td>36019.840000</td>\n",
       "    </tr>\n",
       "  </tbody>\n",
       "</table style = \"display:inline\">          <table style = \"display:inline\" border=\"1\" class=\"dataframe\">\n",
       "  <thead>\n",
       "    <tr style=\"text-align: right;\">\n",
       "      <th></th>\n",
       "      <th>Monetary</th>\n",
       "    </tr>\n",
       "  </thead>\n",
       "  <tbody>\n",
       "    <tr>\n",
       "      <th>count</th>\n",
       "      <td>1284.000000</td>\n",
       "    </tr>\n",
       "    <tr>\n",
       "      <th>mean</th>\n",
       "      <td>222.912509</td>\n",
       "    </tr>\n",
       "    <tr>\n",
       "      <th>std</th>\n",
       "      <td>184.263049</td>\n",
       "    </tr>\n",
       "    <tr>\n",
       "      <th>min</th>\n",
       "      <td>1.900000</td>\n",
       "    </tr>\n",
       "    <tr>\n",
       "      <th>25%</th>\n",
       "      <td>96.740000</td>\n",
       "    </tr>\n",
       "    <tr>\n",
       "      <th>50%</th>\n",
       "      <td>168.770000</td>\n",
       "    </tr>\n",
       "    <tr>\n",
       "      <th>75%</th>\n",
       "      <td>297.585000</td>\n",
       "    </tr>\n",
       "    <tr>\n",
       "      <th>max</th>\n",
       "      <td>1716.070000</td>\n",
       "    </tr>\n",
       "  </tbody>\n",
       "</table style = \"display:inline\">          <table style = \"display:inline\" border=\"1\" class=\"dataframe\">\n",
       "  <thead>\n",
       "    <tr style=\"text-align: right;\">\n",
       "      <th></th>\n",
       "      <th>Monetary</th>\n",
       "    </tr>\n",
       "  </thead>\n",
       "  <tbody>\n",
       "    <tr>\n",
       "      <th>count</th>\n",
       "      <td>1790.000000</td>\n",
       "    </tr>\n",
       "    <tr>\n",
       "      <th>mean</th>\n",
       "      <td>831.815298</td>\n",
       "    </tr>\n",
       "    <tr>\n",
       "      <th>std</th>\n",
       "      <td>1005.473238</td>\n",
       "    </tr>\n",
       "    <tr>\n",
       "      <th>min</th>\n",
       "      <td>20.920000</td>\n",
       "    </tr>\n",
       "    <tr>\n",
       "      <th>25%</th>\n",
       "      <td>306.537500</td>\n",
       "    </tr>\n",
       "    <tr>\n",
       "      <th>50%</th>\n",
       "      <td>581.625000</td>\n",
       "    </tr>\n",
       "    <tr>\n",
       "      <th>75%</th>\n",
       "      <td>1052.945000</td>\n",
       "    </tr>\n",
       "    <tr>\n",
       "      <th>max</th>\n",
       "      <td>24322.400000</td>\n",
       "    </tr>\n",
       "  </tbody>\n",
       "</table style = \"display:inline\">          "
      ]
     },
     "metadata": {},
     "output_type": "display_data"
    }
   ],
   "source": [
    "display_side_by_side(df_VIP.describe(), df_Standard.describe(), df_Normal.describe())"
   ]
  },
  {
   "cell_type": "code",
   "execution_count": 61,
   "id": "ea3ab120",
   "metadata": {},
   "outputs": [],
   "source": [
    "# calculate payment for each cluster\n",
    "temStr = {'NumCust': {'VIP': df_VIP['Monetary'].count(),\n",
    "                        'Standard': df_Standard['Monetary'].count(),\n",
    "                        'Normal': df_Normal['Monetary'].count()},\n",
    "          'Payment': {'VIP': round(df_VIP['Monetary'].sum()),\n",
    "                      'Standard': round(df_Standard['Monetary'].sum()),\n",
    "                      'Normal': round(df_Normal['Monetary'].sum())}\n",
    "          }"
   ]
  },
  {
   "cell_type": "code",
   "execution_count": 65,
   "id": "0327462f",
   "metadata": {},
   "outputs": [
    {
     "data": {
      "text/html": [
       "<div>\n",
       "<style scoped>\n",
       "    .dataframe tbody tr th:only-of-type {\n",
       "        vertical-align: middle;\n",
       "    }\n",
       "\n",
       "    .dataframe tbody tr th {\n",
       "        vertical-align: top;\n",
       "    }\n",
       "\n",
       "    .dataframe thead th {\n",
       "        text-align: right;\n",
       "    }\n",
       "</style>\n",
       "<table border=\"1\" class=\"dataframe\">\n",
       "  <thead>\n",
       "    <tr style=\"text-align: right;\">\n",
       "      <th></th>\n",
       "      <th>NumCust</th>\n",
       "      <th>Payment</th>\n",
       "    </tr>\n",
       "  </thead>\n",
       "  <tbody>\n",
       "    <tr>\n",
       "      <th>VIP</th>\n",
       "      <td>709</td>\n",
       "      <td>1894281</td>\n",
       "    </tr>\n",
       "    <tr>\n",
       "      <th>Standard</th>\n",
       "      <td>1284</td>\n",
       "      <td>286220</td>\n",
       "    </tr>\n",
       "    <tr>\n",
       "      <th>Normal</th>\n",
       "      <td>1790</td>\n",
       "      <td>1488949</td>\n",
       "    </tr>\n",
       "  </tbody>\n",
       "</table>\n",
       "</div>"
      ],
      "text/plain": [
       "          NumCust  Payment\n",
       "VIP           709  1894281\n",
       "Standard     1284   286220\n",
       "Normal       1790  1488949"
      ]
     },
     "execution_count": 65,
     "metadata": {},
     "output_type": "execute_result"
    }
   ],
   "source": [
    "# dictionary to df\n",
    "HAC_compare = pd.DataFrame(temStr)\n",
    "HAC_compare"
   ]
  },
  {
   "cell_type": "code",
   "execution_count": 66,
   "id": "6705d360",
   "metadata": {},
   "outputs": [],
   "source": [
    "h_num_dic = HAC_compare['NumCust'].to_dict()\n",
    "h_pym_dic = HAC_compare['Payment'].to_dict()"
   ]
  },
  {
   "cell_type": "code",
   "execution_count": 67,
   "id": "a44e4cbc",
   "metadata": {},
   "outputs": [
    {
     "data": {
      "image/png": "[encoded data removed]",
      "text/plain": [
       "<Figure size 864x288 with 2 Axes>"
      ]
     },
     "metadata": {
      "needs_background": "light"
     },
     "output_type": "display_data"
    }
   ],
   "source": [
    "fig = plt.figure(figsize = (12, 4))\n",
    "ax1 = plt.subplot2grid((1,2), (0,0)) \n",
    "ax2 = plt.subplot2grid((1,2), (0,1)) \n",
    "\n",
    "# Number of customer in each cluster\n",
    "ax1.bar(h_num_dic.keys(), h_num_dic.values(), color = ['green', 'blue', 'red'])\n",
    "ax1.set_title(\"Number of customer by cluster\")\n",
    "ax1.set_ylabel('Number of customer')\n",
    "\n",
    "# Total payment of each cluster\n",
    "ax2.bar(h_pym_dic.keys(), h_pym_dic.values(), color = ['green', 'blue', 'red'])\n",
    "ax2.set_title(\"Total payment by cluster\")\n",
    "x = ax2.set_ylabel('Payment(million)')"
   ]
  },
  {
   "cell_type": "markdown",
   "id": "a16e6bf5",
   "metadata": {},
   "source": [
    "### 6. Result\n",
    "Based on what we tested in K-Mean model & Hierarchical model, the company's customer is segmented into 3 groups. Moreover, even though both models produce the same of cluster, but the way they classify segmentation is a bit difference. As we can see in visualization, K-Mean model can classify segmentation of customer clearer than Hierarchical model. In visualization graph of HAC, we can see some of customers in Standard group are spread into VIP group. It’s look like customer in these two groups are not isolated. In contrast, the three groups of customer in Kmean's visualization are very isolated. They are classified in a specific pattern. \n",
    "\n",
    "In conclusion base on Kmean model, the customer has segmented as 3 groups:\n",
    "- VIP: they are the best customer, loyalty, big spend, and mostly engage with company platform\n",
    "- Standard: they are the customer that is stay in medium level. This group is not often engage if compare to VIP group, but their spending is not quite different from VIP's group. We can say that they are more likely active based on season or event.\n",
    "- Normal: Customer in this group haven’t purchased for quite long, hey may churn out soon."
   ]
  },
  {
   "cell_type": "markdown",
   "id": "7da69282",
   "metadata": {},
   "source": [
    "### 7. Recommendation:\n",
    "-\tVIP group: This is the group of customer that company can cross-sell. Company can also encourage them to stay in the group of VIP member by giving them some special promotion such as free same-day shipping, priority access to newly launch product etc. \n",
    "- Standard group: The company should promote more product, make some more discounts, and introduce them the benefit of VIP's member. So that they can spend more.\n",
    "-\tNormal group: This group of customer may churn out soon. So, company should offer some reward or coupon to push them to purchase the products."
   ]
  },
  {
   "cell_type": "code",
   "execution_count": null,
   "id": "95634d2c",
   "metadata": {},
   "outputs": [],
   "source": []
  }
 ],
 "metadata": {
  "kernelspec": {
   "display_name": "Python 3 (ipykernel)",
   "language": "python",
   "name": "python3"
  },
  "language_info": {
   "codemirror_mode": {
    "name": "ipython",
    "version": 3
   },
   "file_extension": ".py",
   "mimetype": "text/x-python",
   "name": "python",
   "nbconvert_exporter": "python",
   "pygments_lexer": "ipython3",
   "version": "3.9.7"
  }
 },
 "nbformat": 4,
 "nbformat_minor": 5
}
